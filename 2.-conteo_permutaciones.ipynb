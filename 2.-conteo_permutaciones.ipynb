{
  "cells": [
    {
      "cell_type": "markdown",
      "metadata": {
        "id": "eAySekmVFnBb"
      },
      "source": [
        "# Conteo\n",
        "\n",
        "El siguiente Laboratorio consistirá en ver los contenidos de forma práctica del Principio de Inclusión y Exclusión, al igual que el Principio del Palomar.\n",
        "\n",
        "Considere un conjunto de pacientes que han tenido como máximo 3 dosis de vacunación para COVID-19. Las vacunas disponibles son Pfizer (P), AstraZeneca (A) o Sinovac (S)."
      ]
    },
    {
      "cell_type": "code",
      "execution_count": 25,
      "metadata": {
        "id": "MY9VADtOFnBd"
      },
      "outputs": [],
      "source": [
        "vacunas=['P','A','S']\n",
        "pacientes=[[] for i in range(10)]"
      ]
    },
    {
      "cell_type": "code",
      "execution_count": 28,
      "metadata": {
        "id": "r5ijkdjVFnBe"
      },
      "outputs": [],
      "source": [
        "import random\n",
        "\n",
        "num_dosis=3\n",
        "for p in pacientes:\n",
        "  for j in range(random.randint(0,num_dosis)):\n",
        "    vacuna=random.choice(vacunas)\n",
        "    p.append(vacuna)"
      ]
    },
    {
      "cell_type": "code",
      "execution_count": 34,
      "metadata": {
        "id": "4aHKktc3FnBe",
        "outputId": "762f9969-f754-42b3-fb54-a6700cbdf17d",
        "colab": {
          "base_uri": "https://localhost:8080/"
        }
      },
      "outputs": [
        {
          "output_type": "stream",
          "name": "stdout",
          "text": [
            "id : 0, vacunas : ['A', 'P']\n",
            "id : 1, vacunas : ['A', 'S', 'S']\n",
            "id : 2, vacunas : []\n",
            "id : 3, vacunas : ['A', 'S']\n",
            "id : 4, vacunas : ['P', 'S', 'A']\n",
            "id : 5, vacunas : ['P', 'A', 'A']\n",
            "id : 6, vacunas : ['S', 'S']\n",
            "id : 7, vacunas : ['A', 'S']\n",
            "id : 8, vacunas : ['P', 'S']\n",
            "id : 9, vacunas : ['P', 'A']\n"
          ]
        }
      ],
      "source": [
        "for j,p in enumerate(pacientes):\n",
        "  print('id : {}, vacunas : {}'.format(j,p))"
      ]
    },
    {
      "cell_type": "markdown",
      "source": [
        "Genere una muestra aleatoria de 500 pacientes \n",
        "\n",
        "1.   Determine la cantidad de pacientes que se vacunaron con Pzifer en cualquiera de las dosis (tip: utilice un indice inverso)\n",
        "2.   Calcule la cantidad de pacientes que solamente se vacunaron con AstraZeneca.\n",
        "3.   Utilice el principio de Inclusión-Exclusión para determinar la cantidad de pacientes que no han sido vacunados.  \n",
        "\n"
      ],
      "metadata": {
        "id": "_wPJdSdkI4cu"
      }
    },
    {
      "cell_type": "code",
      "source": [
        "inverted_index={}"
      ],
      "metadata": {
        "id": "HLQTzxl8Kofo"
      },
      "execution_count": 92,
      "outputs": []
    },
    {
      "cell_type": "code",
      "source": [
        "from itertools import combinations\n",
        "\n",
        "for j in range(1,len(vacunas)+1):\n",
        "  for comb in combinations(vacunas,j):\n",
        "    inverted_index.update({comb:[]})"
      ],
      "metadata": {
        "id": "qJZ5JRpWMBpq"
      },
      "execution_count": 93,
      "outputs": []
    },
    {
      "cell_type": "code",
      "source": [
        "inverted_index"
      ],
      "metadata": {
        "id": "Vg49cmX3OH54",
        "outputId": "0034be40-24b9-4aff-ec08-c154938cfa41",
        "colab": {
          "base_uri": "https://localhost:8080/"
        }
      },
      "execution_count": 94,
      "outputs": [
        {
          "output_type": "execute_result",
          "data": {
            "text/plain": [
              "{('A',): [],\n",
              " ('A', 'S'): [],\n",
              " ('P',): [],\n",
              " ('P', 'A'): [],\n",
              " ('P', 'A', 'S'): [],\n",
              " ('P', 'S'): [],\n",
              " ('S',): []}"
            ]
          },
          "metadata": {},
          "execution_count": 94
        }
      ]
    },
    {
      "cell_type": "code",
      "source": [
        "inverted_index"
      ],
      "metadata": {
        "id": "-3Zu0dx1Ry3w",
        "outputId": "5d514477-870d-4e76-b303-9fb4ae648fcd",
        "colab": {
          "base_uri": "https://localhost:8080/"
        }
      },
      "execution_count": 96,
      "outputs": [
        {
          "output_type": "execute_result",
          "data": {
            "text/plain": [
              "{('A',): [0, 1, 3, 4, 5, 7, 9],\n",
              " ('A', 'S'): [1, 3, 4, 7],\n",
              " ('P',): [0, 4, 5, 8, 9],\n",
              " ('P', 'A'): [0, 4, 5, 9],\n",
              " ('P', 'A', 'S'): [4],\n",
              " ('P', 'S'): [4, 8],\n",
              " ('S',): [1, 3, 4, 6, 7, 8]}"
            ]
          },
          "metadata": {},
          "execution_count": 96
        }
      ]
    },
    {
      "cell_type": "markdown",
      "metadata": {
        "id": "JoKFLO9kFnBj"
      },
      "source": [
        "# Permutaciones\n",
        "\n",
        "Una permutación es un reordenamiento de los elementos de una lista ordenada. El número de permutaciones de una lista con $n$ elementos es $n!$."
      ]
    },
    {
      "cell_type": "markdown",
      "metadata": {
        "id": "kOm5UYoTFnBj"
      },
      "source": [
        ">De cuantos formas distintas podemos ordenar la palabra 'MATEMATICA'"
      ]
    },
    {
      "cell_type": "code",
      "execution_count": null,
      "metadata": {
        "id": "sQiCayjUFnBj"
      },
      "outputs": [],
      "source": [
        "import numpy as np\n",
        "\n",
        "factorial = lambda n: 1 if n == 0 else n * factorial(n-1)\n",
        "\n",
        "permutations = lambda n,r : np.int32(factorial(n)/factorial(n-r))\n",
        "\n",
        "generalized_permutations = lambda n,r : np.int32(factorial(n)\n",
        "                                                 /np.prod([factorial(i) for i in r]))"
      ]
    },
    {
      "cell_type": "code",
      "execution_count": null,
      "metadata": {
        "id": "q7vTZONZFnBj",
        "outputId": "b0226dc7-d3fa-4bcf-8984-06b58633174a"
      },
      "outputs": [
        {
          "name": "stdout",
          "output_type": "stream",
          "text": [
            "largo palabra : 10\n",
            "cantidad repeticiones : {'E': 1, 'I': 1, 'M': 2, 'T': 2, 'C': 1, 'A': 3}\n",
            "cantidad de ordenamientos : 151200\n"
          ]
        }
      ],
      "source": [
        "str=\"MATEMATICA\"\n",
        "\n",
        "arr=list(str)\n",
        "n=len(arr)\n",
        "num_rep={l:str.count(l) for l in set(arr)}\n",
        "print('largo palabra : {0}'.format(len(arr)))\n",
        "print('cantidad repeticiones : {0}'.format(num_rep))\n",
        "print('cantidad de ordenamientos : {0}'.format(generalized_permutations(n,num_rep.values())))"
      ]
    },
    {
      "cell_type": "code",
      "execution_count": null,
      "metadata": {
        "id": "iIAtR8S4FnBk",
        "outputId": "47a5985e-e490-4885-c4ba-a72610b6236c"
      },
      "outputs": [
        {
          "name": "stdout",
          "output_type": "stream",
          "text": [
            "largo palabra : 8\n",
            "cantidad repeticiones : {'D': 1, 'C': 1, 'I': 1, 'S': 1, 'A': 1, 'R': 1, 'E': 1, 'T': 1}\n",
            "cantidad de ordenamientos : 40320\n"
          ]
        }
      ],
      "source": [
        "str=\"DISCRETA\"\n",
        "\n",
        "arr=list(str)\n",
        "n=len(arr)\n",
        "num_rep={l:str.count(l) for l in set(arr)}\n",
        "print('largo palabra : {0}'.format(len(arr)))\n",
        "print('cantidad repeticiones : {0}'.format(num_rep))\n",
        "print('cantidad de ordenamientos : {0}'.format(generalized_permutations(n,num_rep.values())))"
      ]
    },
    {
      "cell_type": "code",
      "execution_count": null,
      "metadata": {
        "id": "7e0qrxZIFnBk",
        "outputId": "4aea0545-660d-4741-faba-7c909a8a9826"
      },
      "outputs": [
        {
          "data": {
            "text/plain": [
              "40320"
            ]
          },
          "execution_count": 3,
          "metadata": {},
          "output_type": "execute_result"
        }
      ],
      "source": [
        "factorial(len(arr))"
      ]
    },
    {
      "cell_type": "markdown",
      "metadata": {
        "id": "ytAmhkAEFnBk"
      },
      "source": [
        "> Ahora de cuantas formas podemos ordenar la palabra 'MATEMATICA', de tal forma que las vocales siempre esten juntas? "
      ]
    },
    {
      "cell_type": "code",
      "execution_count": null,
      "metadata": {
        "id": "v-1UGxV8FnBk",
        "outputId": "8142d919-21c7-4854-a27d-fe0e25a4a67c"
      },
      "outputs": [
        {
          "name": "stdout",
          "output_type": "stream",
          "text": [
            "['M', 'T', 'M', 'T', 'C']\n",
            "{'M': 2, 'T': 2, 'C': 1}\n",
            "30\n",
            "['A', 'E', 'A', 'I', 'A']\n",
            "{'I': 1, 'A': 3, 'E': 1}\n",
            "20\n",
            "cantidad ordenamientos con vocales juntas : 600\n"
          ]
        }
      ],
      "source": [
        "vowels={'A','E','I','O','U'}\n",
        "\n",
        "str=\"MATEMATICA\"\n",
        "\n",
        "arr=[c for c in list(str) if c not in vowels] \n",
        "num_rep={l:str.count(l) for l in set(arr)}\n",
        "print(arr)\n",
        "print(num_rep)\n",
        "n1=generalized_permutations(len(arr),num_rep.values())\n",
        "print(n1)\n",
        "\n",
        "arr2=[c for c in list(str) if c in vowels] \n",
        "num_rep2={l:str.count(l) for l in set(arr2)}\n",
        "print(arr2)\n",
        "print(num_rep2)\n",
        "n2=generalized_permutations(len(arr2),num_rep2.values())\n",
        "print(n2)\n",
        "\n",
        "print('cantidad ordenamientos con vocales juntas : {0}'.format(n1*n2))"
      ]
    },
    {
      "cell_type": "markdown",
      "metadata": {
        "id": "d1mmbjzmFnBk"
      },
      "source": [
        "# Combinatoria\n",
        "\n",
        "Si $n$ es un entero positivo y $r$ es otro entero tal que $1 \\leq r \\leq n$ entonces existen $C(n,r)$ subconjuntos con $r$ elementos de un conjunto de $n$ elementos distintos \\textbf{sin orden en particular}."
      ]
    },
    {
      "cell_type": "markdown",
      "metadata": {
        "id": "jdH6J79YFnBk"
      },
      "source": [
        ">De un total de 7 hombres y 3 mujeres. Cuantos grupos de 5 hombres y 2 mujeres podemos obtener?"
      ]
    },
    {
      "cell_type": "code",
      "execution_count": null,
      "metadata": {
        "id": "2SYk3DVKFnBk",
        "outputId": "042a0935-7e41-40c2-8bdc-5c6bbd7af6be"
      },
      "outputs": [
        {
          "name": "stdout",
          "output_type": "stream",
          "text": [
            "El numero de grupos con 5 hombres 21.0\n",
            "El 2 mujeres es 3.0\n",
            "El numero de grupos con 5 hombres y 2 mujeres es 63.0\n"
          ]
        }
      ],
      "source": [
        "import numpy as np\n",
        "\n",
        "n_choose_k = lambda n,k :factorial(n)/(factorial(k)*factorial(n-k))\n",
        "\n",
        "men=n_choose_k(7,5)\n",
        "women=n_choose_k(3,2)\n",
        "\n",
        "print('El numero de grupos con 5 hombres {0}'.format(men))\n",
        "print('El 2 mujeres es {0}'.format(women))\n",
        "print('El numero de grupos con 5 hombres y 2 mujeres es {0}'.format(men*women))"
      ]
    },
    {
      "cell_type": "markdown",
      "metadata": {
        "id": "KIa1PqUNFnBk"
      },
      "source": [
        "# Tarea 2\n",
        "\n",
        "1. Escribir una funcion para generar la siguiente permutacion en orden lexicografico.\n",
        "2. Escribir una funcion para generar todas las permutaciones de un arreglo de $n$ elementos.\n",
        "\n",
        "Tip : https://www.tutorialspoint.com/generate-all-permutation-of-a-set-in-python"
      ]
    },
    {
      "cell_type": "code",
      "execution_count": null,
      "metadata": {
        "id": "n3QcjYkcFnBk"
      },
      "outputs": [],
      "source": [
        "import numpy as np\n",
        "\n",
        "def all_permutations(arr):\n",
        "    c=0\n",
        "    n=len(arr)\n",
        "    while c<factorial(n):\n",
        "        p=np.random.permutation(n)\n",
        "        yield [arr[i] for i in p]\n",
        "        c+=1\n",
        "\n",
        "def next_permutation(arr):\n",
        "    n=len(arr)\n",
        "    j=n-2\n",
        "    while arr[j]>arr[j+1]:\n",
        "        j=j-1\n",
        "    k=n-1\n",
        "    while arr[j]>arr[k]:\n",
        "        k=k-1\n",
        "    temp=arr[j]\n",
        "    arr[j]=arr[k]\n",
        "    arr[k]=temp\n",
        "    r=n-1\n",
        "    s=j+1\n",
        "    while r>s:\n",
        "        temp=arr[r]\n",
        "        arr[r]=arr[s]\n",
        "        arr[s]=temp\n",
        "        r=r-1\n",
        "        s=s+1\n",
        "    return arr\n",
        "        \n",
        "def lexicographic_permutation(arr):\n",
        "    c=0\n",
        "    arr.sort()\n",
        "    n=len(arr)\n",
        "    while c<factorial(n):\n",
        "        if c==0:\n",
        "            yield arr\n",
        "        else:\n",
        "            yield next_permutation(arr)\n",
        "        c=c+1"
      ]
    },
    {
      "cell_type": "code",
      "execution_count": null,
      "metadata": {
        "id": "4FMX4ihSFnBk",
        "outputId": "8f4283e5-0206-4b57-d58b-b91685e71889"
      },
      "outputs": [
        {
          "name": "stdout",
          "output_type": "stream",
          "text": [
            "0 ['A', 'H', 'L', 'O']\n",
            "1 ['A', 'H', 'O', 'L']\n",
            "2 ['A', 'L', 'H', 'O']\n",
            "3 ['A', 'L', 'O', 'H']\n",
            "4 ['A', 'O', 'H', 'L']\n",
            "5 ['A', 'O', 'L', 'H']\n",
            "6 ['H', 'A', 'L', 'O']\n",
            "7 ['H', 'A', 'O', 'L']\n",
            "8 ['H', 'L', 'A', 'O']\n",
            "9 ['H', 'L', 'O', 'A']\n",
            "10 ['H', 'O', 'A', 'L']\n",
            "11 ['H', 'O', 'L', 'A']\n",
            "12 ['L', 'A', 'H', 'O']\n",
            "13 ['L', 'A', 'O', 'H']\n",
            "14 ['L', 'H', 'A', 'O']\n",
            "15 ['L', 'H', 'O', 'A']\n",
            "16 ['L', 'O', 'A', 'H']\n",
            "17 ['L', 'O', 'H', 'A']\n",
            "18 ['O', 'A', 'H', 'L']\n",
            "19 ['O', 'A', 'L', 'H']\n",
            "20 ['O', 'H', 'A', 'L']\n",
            "21 ['O', 'H', 'L', 'A']\n",
            "22 ['O', 'L', 'A', 'H']\n",
            "23 ['O', 'L', 'H', 'A']\n"
          ]
        }
      ],
      "source": [
        "for i,p in enumerate(lexicographic_permutation(list(\"HOLA\"))):\n",
        "    print(i,p)"
      ]
    },
    {
      "cell_type": "code",
      "execution_count": null,
      "metadata": {
        "id": "ljGRHqBBFnBk",
        "outputId": "85b81844-b73a-4fea-e514-34f8711510b1"
      },
      "outputs": [
        {
          "name": "stdout",
          "output_type": "stream",
          "text": [
            "0 ('H', 'O', 'L', 'A')\n",
            "1 ('H', 'O', 'A', 'L')\n",
            "2 ('H', 'L', 'O', 'A')\n",
            "3 ('H', 'L', 'A', 'O')\n",
            "4 ('H', 'A', 'O', 'L')\n",
            "5 ('H', 'A', 'L', 'O')\n",
            "6 ('O', 'H', 'L', 'A')\n",
            "7 ('O', 'H', 'A', 'L')\n",
            "8 ('O', 'L', 'H', 'A')\n",
            "9 ('O', 'L', 'A', 'H')\n",
            "10 ('O', 'A', 'H', 'L')\n",
            "11 ('O', 'A', 'L', 'H')\n",
            "12 ('L', 'H', 'O', 'A')\n",
            "13 ('L', 'H', 'A', 'O')\n",
            "14 ('L', 'O', 'H', 'A')\n",
            "15 ('L', 'O', 'A', 'H')\n",
            "16 ('L', 'A', 'H', 'O')\n",
            "17 ('L', 'A', 'O', 'H')\n",
            "18 ('A', 'H', 'O', 'L')\n",
            "19 ('A', 'H', 'L', 'O')\n",
            "20 ('A', 'O', 'H', 'L')\n",
            "21 ('A', 'O', 'L', 'H')\n",
            "22 ('A', 'L', 'H', 'O')\n",
            "23 ('A', 'L', 'O', 'H')\n"
          ]
        }
      ],
      "source": [
        "from itertools import permutations\n",
        "\n",
        "for i,p in enumerate(permutations(list(\"HOLA\"))):\n",
        "    print(i,p)"
      ]
    },
    {
      "cell_type": "code",
      "execution_count": null,
      "metadata": {
        "id": "EGjsr1W0FnBk"
      },
      "outputs": [],
      "source": [
        ""
      ]
    }
  ],
  "metadata": {
    "kernelspec": {
      "display_name": "Python 3",
      "language": "python",
      "name": "python3"
    },
    "language_info": {
      "codemirror_mode": {
        "name": "ipython",
        "version": 3
      },
      "file_extension": ".py",
      "mimetype": "text/x-python",
      "name": "python",
      "nbconvert_exporter": "python",
      "pygments_lexer": "ipython3",
      "version": "3.6.9"
    },
    "colab": {
      "name": "2.-conteo_permutaciones.ipynb",
      "provenance": []
    }
  },
  "nbformat": 4,
  "nbformat_minor": 0
}