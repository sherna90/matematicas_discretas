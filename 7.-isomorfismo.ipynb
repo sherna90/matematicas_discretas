{
  "cells": [
    {
      "cell_type": "markdown",
      "metadata": {
        "id": "kZVQqVZNn84I"
      },
      "source": [
        "# Isomorfismo de Grafos\n",
        "\n",
        "Dos grafos $G=(V,E)$ y $G'=(V',E')$ son \\textbf{isomorfos} si existen dos biyecciones $f_v:V\\mapsto V'$ y $f_e:E\\mapsto E'$, entre sus v\\'ertices como y sus aristas respectivamente, tal que para cualquier elemento $v$ y $w$ pertenecientes a $V$ tenemos:\n",
        "\n",
        "$\\{v,w\\} \\in E \\iff \\{f_v(v),f_v(w)\\} \\in E'$"
      ]
    },
    {
      "cell_type": "code",
      "execution_count": 19,
      "metadata": {
        "id": "JXUk-JELn84M"
      },
      "outputs": [],
      "source": [
        "import numpy as np\n",
        "\n",
        "class abstract_graph:\n",
        "    \n",
        "    def __init__(self,_edges):\n",
        "        self.edges=_edges\n",
        "        self.nodes={u for u,v in self.edges} | {v for u,v in self.edges}\n",
        "        \n",
        "    def adjacency_matrix(self):\n",
        "        pass\n",
        "    \n",
        "    def adjacency_list(self):\n",
        "        pass\n",
        "    \n",
        "class simple_graph(abstract_graph):\n",
        "    \n",
        "    def __init__(self,_edges):\n",
        "        tmp=[]\n",
        "        for (u,v) in _edges:\n",
        "            if (v,u) not in tmp and v!=u:\n",
        "                tmp.append((u,v))\n",
        "        self.edges=tmp\n",
        "        self.nodes={u for u,v in _edges} | {v for u,v in _edges}\n",
        "     \n",
        "    def adjacency_matrix(self):\n",
        "        # completar\n",
        "        n=len(self.nodes)\n",
        "        mat=np.zeros((n,n))\n",
        "        for i,v in enumerate(self.nodes):\n",
        "            for j,k in enumerate(self.nodes):\n",
        "                if (v,k) in self.edges:\n",
        "                    mat[i,j]=1\n",
        "                    mat[j,i]=1\n",
        "        return mat\n",
        "    \n",
        "    \n",
        "    def adjacency_list(self):\n",
        "        adjacent=lambda n : {v for u,v in self.edges if u==n } | {u for u,v in self.edges if v==n}\n",
        "        return {v:adjacent(v) for v in self.nodes}\n",
        "        \n",
        "    \n",
        "\n"
      ]
    },
    {
      "cell_type": "code",
      "execution_count": 31,
      "metadata": {
        "id": "g3dzdkTjn84P"
      },
      "outputs": [],
      "source": [
        "E=[('a','b'),('a','e'),('a','f'),('b','c'),('b', 'd'),\n",
        "   ('c','d'),('d','e'),('b','e'),('e','f')]\n",
        "G=simple_graph(E)"
      ]
    },
    {
      "cell_type": "code",
      "execution_count": 33,
      "metadata": {
        "id": "w_R9NTzln84P",
        "outputId": "8dd7ed48-f56f-488a-cf9d-6d113c715efb",
        "colab": {
          "base_uri": "https://localhost:8080/",
          "height": 319
        }
      },
      "outputs": [
        {
          "output_type": "display_data",
          "data": {
            "text/plain": [
              "<Figure size 432x288 with 1 Axes>"
            ],
            "image/png": "[encoded data removed]"
          },
          "metadata": {}
        }
      ],
      "source": [
        "import networkx as nx\n",
        "\n",
        "G_nx=nx.Graph()\n",
        "G_nx.add_edges_from(E)\n",
        "pos={'a':(0,0),'b':(1,0),'f':(-0.5,-1),'c':(1.5,-1),\n",
        "     'e':(0,-2),'d':(1,-2)}\n",
        "nx.draw(G_nx,pos=pos,with_labels=True, font_weight='bold')"
      ]
    },
    {
      "cell_type": "code",
      "execution_count": 115,
      "metadata": {
        "id": "BHtdgpqEn84Q"
      },
      "outputs": [],
      "source": [
        "E2=[('x','y'),('x','u'),('x','v'),('y','u'),('z', 'w'),\n",
        "   ('z','u'),('u','v'),('v','w'),('z','v')]\n",
        "G2=simple_graph(E2)"
      ]
    },
    {
      "cell_type": "code",
      "execution_count": 105,
      "metadata": {
        "id": "w8V8zY6Gn84R",
        "outputId": "99d1578c-c68d-4bc0-d539-47a7f6a46843",
        "colab": {
          "base_uri": "https://localhost:8080/",
          "height": 319
        }
      },
      "outputs": [
        {
          "output_type": "display_data",
          "data": {
            "text/plain": [
              "<Figure size 432x288 with 1 Axes>"
            ],
            "image/png": "[encoded data removed]"
          },
          "metadata": {}
        }
      ],
      "source": [
        "G_nx2=nx.Graph()\n",
        "G_nx2.add_edges_from(E2)\n",
        "nx.draw(G_nx2,with_labels=True, font_weight='bold')"
      ]
    },
    {
      "cell_type": "code",
      "execution_count": 106,
      "metadata": {
        "id": "1VRcRD-vn84R",
        "outputId": "8aef3896-1abe-4eb2-c0d1-f02c746d94c3",
        "colab": {
          "base_uri": "https://localhost:8080/"
        }
      },
      "outputs": [
        {
          "output_type": "execute_result",
          "data": {
            "text/plain": [
              "True"
            ]
          },
          "metadata": {},
          "execution_count": 106
        }
      ],
      "source": [
        "nx.is_isomorphic(G_nx,G_nx2)"
      ]
    },
    {
      "cell_type": "code",
      "execution_count": 107,
      "metadata": {
        "id": "TRerj7GCn84S"
      },
      "outputs": [],
      "source": [
        "A=nx.adjacency_matrix(G_nx).todense()"
      ]
    },
    {
      "cell_type": "code",
      "source": [
        "A2=nx.adjacency_matrix(G_nx2).todense()"
      ],
      "metadata": {
        "id": "tpz9mwQstRKm"
      },
      "execution_count": 108,
      "outputs": []
    },
    {
      "cell_type": "code",
      "source": [
        "import matplotlib.pyplot as plt\n",
        "from matplotlib.pyplot import imshow\n",
        "import seaborn as sns \n",
        "\n",
        "fig, (ax1, ax2) = plt.subplots(1, 2,sharex=True)\n",
        "ax1.imshow(A)\n",
        "ax2.imshow(A2)"
      ],
      "metadata": {
        "id": "Urip4ICCtgXV",
        "outputId": "3a2fb4ec-29fa-4440-fc1a-61b6d7492e07",
        "colab": {
          "base_uri": "https://localhost:8080/",
          "height": 217
        }
      },
      "execution_count": 148,
      "outputs": [
        {
          "output_type": "execute_result",
          "data": {
            "text/plain": [
              "<matplotlib.image.AxesImage at 0x7fe16a308d10>"
            ]
          },
          "metadata": {},
          "execution_count": 148
        },
        {
          "output_type": "display_data",
          "data": {
            "text/plain": [
              "<Figure size 432x288 with 2 Axes>"
            ],
            "image/png": "[encoded data removed]"
          },
          "metadata": {}
        }
      ]
    },
    {
      "cell_type": "code",
      "execution_count": 111,
      "metadata": {
        "id": "9GQsVB_qn84U"
      },
      "outputs": [],
      "source": [
        "import numpy.linalg\n",
        "\n",
        "l1,v1=numpy.linalg.eig(A)\n",
        "l2,v2=numpy.linalg.eig(A2)\n"
      ]
    },
    {
      "cell_type": "code",
      "source": [
        "np.allclose(l1,l2)"
      ],
      "metadata": {
        "id": "OoFJCzNtx94s",
        "outputId": "6fb1a6e3-d949-41db-a694-f4240f8a62cc",
        "colab": {
          "base_uri": "https://localhost:8080/"
        }
      },
      "execution_count": 112,
      "outputs": [
        {
          "output_type": "execute_result",
          "data": {
            "text/plain": [
              "True"
            ]
          },
          "metadata": {},
          "execution_count": 112
        }
      ]
    },
    {
      "cell_type": "code",
      "source": [
        "brw=0.4\n",
        "br1 = np.arange(len(l1))\n",
        "br2 = [x + brw for x in br1]\n",
        "plt.bar(br1,height=l1,width = 0.4,label=r'$G$')\n",
        "plt.bar(br2,height=l2,width = 0.4,label=r'$G^\\prime$')\n",
        "plt.title('Valores Propios (NetworkX)')\n",
        "plt.legend()\n",
        "plt.show()"
      ],
      "metadata": {
        "id": "eDWouAFh1s_g",
        "outputId": "a151b8e2-d259-4a6c-a791-dffab9faf152",
        "colab": {
          "base_uri": "https://localhost:8080/",
          "height": 281
        }
      },
      "execution_count": 149,
      "outputs": [
        {
          "output_type": "display_data",
          "data": {
            "text/plain": [
              "<Figure size 432x288 with 1 Axes>"
            ],
            "image/png": "[encoded data removed]"
          },
          "metadata": {}
        }
      ]
    },
    {
      "cell_type": "code",
      "source": [
        "A3=G.adjacency_matrix()\n",
        "A4=G2.adjacency_matrix()\n"
      ],
      "metadata": {
        "id": "2pDEuarly0bB"
      },
      "execution_count": 116,
      "outputs": []
    },
    {
      "cell_type": "code",
      "source": [
        "fig, (ax1, ax2) = plt.subplots(1, 2,sharex=True)\n",
        "ax1.imshow(A3)\n",
        "ax2.imshow(A4)"
      ],
      "metadata": {
        "id": "hbVljepTy6u_",
        "outputId": "0bbc3581-da6c-4f2a-a1b3-195db6346407",
        "colab": {
          "base_uri": "https://localhost:8080/",
          "height": 217
        }
      },
      "execution_count": 118,
      "outputs": [
        {
          "output_type": "execute_result",
          "data": {
            "text/plain": [
              "<matplotlib.image.AxesImage at 0x7fe16a9db2d0>"
            ]
          },
          "metadata": {},
          "execution_count": 118
        },
        {
          "output_type": "display_data",
          "data": {
            "text/plain": [
              "<Figure size 432x288 with 2 Axes>"
            ],
            "image/png": "[encoded data removed]"
          },
          "metadata": {}
        }
      ]
    },
    {
      "cell_type": "code",
      "source": [
        "l3,v3=numpy.linalg.eig(A3)\n",
        "l4,v4=numpy.linalg.eig(A4)"
      ],
      "metadata": {
        "id": "Q4bgHukjy8bP"
      },
      "execution_count": 119,
      "outputs": []
    },
    {
      "cell_type": "code",
      "source": [
        "brw=0.4\n",
        "br1 = np.arange(len(l3))\n",
        "br2 = [x + brw for x in br1]\n",
        "plt.bar(br1,height=l3,width = 0.4,label=r'$G$')\n",
        "plt.bar(br2,height=l4,width = 0.4,label=r'$G^\\prime$')\n",
        "plt.title('Valores Propios')\n",
        "plt.legend()\n",
        "plt.show()"
      ],
      "metadata": {
        "id": "jnu-juV8zgdt",
        "outputId": "47e86527-b01a-4fc1-815f-12cf4c0d90e9",
        "colab": {
          "base_uri": "https://localhost:8080/",
          "height": 281
        }
      },
      "execution_count": 150,
      "outputs": [
        {
          "output_type": "display_data",
          "data": {
            "text/plain": [
              "<Figure size 432x288 with 1 Axes>"
            ],
            "image/png": "[encoded data removed]"
          },
          "metadata": {}
        }
      ]
    },
    {
      "cell_type": "markdown",
      "source": [
        "# Matrices de Permutacion\n",
        "Dos grafos $G=(V,E)$ y $G'=(V',E')$ son isomorfos si y solo si existe una matriz de permutación $P$ y alg\\'un orden de sus vértices, tal que sus matrices de adyacencia $A(G)$ y $A(G')$ son iguales.\n",
        "\n",
        "$A(G)=P \\times A(G')\\times P^T$"
      ],
      "metadata": {
        "id": "ojCv7hoE16RW"
      }
    },
    {
      "cell_type": "code",
      "source": [
        "import itertools as it\n",
        "\n",
        "def permutation_matrix(perm):\n",
        "    n=len(perm)\n",
        "    P=np.zeros((n,n))\n",
        "    for i in range(n):\n",
        "        P[i,perm[i]]=1\n",
        "    return P\n",
        "\n",
        "def is_isomorphic_permutation(A1,A2,P):\n",
        "    An=P.dot(A1).dot(P.T)\n",
        "    return np.array_equal(A2,An)\n",
        "\n",
        "def is_isomorphic(A1,A2):\n",
        "    n=A1.shape[0]\n",
        "    for p in it.permutations(range(n)):\n",
        "        P=permutation_matrix(p)\n",
        "        if is_isomorphic_permutation(A1,A2,P.T) or is_isomorphic_permutation(A1,A2,P):\n",
        "            return True,P\n",
        "    return False,None"
      ],
      "metadata": {
        "id": "heVAMi9Q2B6e"
      },
      "execution_count": 144,
      "outputs": []
    },
    {
      "cell_type": "code",
      "source": [
        "_,P=is_isomorphic(A3,A4)"
      ],
      "metadata": {
        "id": "0R6kOBXJ2Xt0"
      },
      "execution_count": 145,
      "outputs": []
    },
    {
      "cell_type": "code",
      "source": [
        "imshow(P)"
      ],
      "metadata": {
        "id": "qGuhUnN12mpK",
        "outputId": "0a56e3ed-b8f5-48b2-a979-18e4fc7c7ca3",
        "colab": {
          "base_uri": "https://localhost:8080/",
          "height": 282
        }
      },
      "execution_count": 147,
      "outputs": [
        {
          "output_type": "execute_result",
          "data": {
            "text/plain": [
              "<matplotlib.image.AxesImage at 0x7fe16b2ad350>"
            ]
          },
          "metadata": {},
          "execution_count": 147
        },
        {
          "output_type": "display_data",
          "data": {
            "text/plain": [
              "<Figure size 432x288 with 1 Axes>"
            ],
            "image/png": "[encoded data removed]"
          },
          "metadata": {}
        }
      ]
    }
  ],
  "metadata": {
    "kernelspec": {
      "display_name": "Python 3.7.7 64-bit ('venv': venv)",
      "language": "python",
      "name": "python37764bitvenvvenvc241e362255b4631a3caa756dfb14c87"
    },
    "language_info": {
      "codemirror_mode": {
        "name": "ipython",
        "version": 2
      },
      "file_extension": ".py",
      "mimetype": "text/x-python",
      "name": "python",
      "nbconvert_exporter": "python",
      "pygments_lexer": "ipython2",
      "version": "3.7.7-final"
    },
    "colab": {
      "name": "7.-isomorfismo.ipynb",
      "provenance": []
    }
  },
  "nbformat": 4,
  "nbformat_minor": 0
}