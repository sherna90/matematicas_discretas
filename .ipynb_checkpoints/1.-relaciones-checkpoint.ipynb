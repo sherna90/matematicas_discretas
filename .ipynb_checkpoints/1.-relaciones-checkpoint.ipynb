{
  "cells": [
    {
      "cell_type": "markdown",
      "metadata": {
        "id": "6o3I5Xesjg6B"
      },
      "source": [
        "# Relaciones\n",
        "\n",
        "Sean los conjuntos $X$ e $Y$. Cualquier subconjunto $R \\subseteq X \\times X$ se dice relación de x {\\displaystyle x} x sobre y {\\displaystyle y} y. Por tanto, una relación es un conjunto de pares ordenados, de modo que toda función f : x ⟶ y {\\displaystyle f:x\\longrightarrow y} {\\displaystyle f:x\\longrightarrow y} es una relación, si bien lo recíproco no es necesariamente cierto, pues puede una relación no cumplir (f-1) o (f-2) (o ambas) de 1.7.1 . De ésto, resulta conveniente adoptar una notación diferente a la que se usó con las funciones para expresar el hecho de que ( a , b ) ∈ R {\\displaystyle (a,b)\\in \\mathrm {R} } {\\displaystyle (a,b)\\in \\mathrm {R} }. Así pues, escribiremos\n"
      ]
    },
    {
      "cell_type": "code",
      "execution_count": 1,
      "metadata": {
        "id": "wY3lGT3Ijg6G"
      },
      "outputs": [],
      "source": [
        "X={'a','b','c','d'}\n",
        "\n",
        "R={('a','b'),('b','c'),\n",
        "   ('c','a'),('a','a'),\n",
        "   ('b','b'),('c','c'),\n",
        "   ('b','a'),('c','b'),('c','d'),('d','c'),\n",
        "   ('a','c'),('d','a'),('a','d'),('d','d')}\n"
      ]
    },
    {
      "cell_type": "code",
      "execution_count": 2,
      "metadata": {
        "id": "bZMUp-Hbjg6H"
      },
      "outputs": [],
      "source": [
        "producto_cartesiano = lambda X : {(a,b) for a in X for b in X}"
      ]
    },
    {
      "cell_type": "code",
      "execution_count": 3,
      "metadata": {
        "id": "xp54wW8pjg6H",
        "outputId": "9463b54a-6cca-4cae-a23c-6531c2e924db",
        "colab": {
          "base_uri": "https://localhost:8080/"
        }
      },
      "outputs": [
        {
          "output_type": "stream",
          "name": "stdout",
          "text": [
            "{('d', 'a'), ('b', 'd'), ('b', 'a'), ('c', 'b'), ('d', 'c'), ('a', 'b'), ('d', 'b'), ('c', 'c'), ('b', 'b'), ('a', 'c'), ('a', 'a'), ('b', 'c'), ('c', 'a'), ('d', 'd'), ('c', 'd'), ('a', 'd')}\n",
            "True\n"
          ]
        }
      ],
      "source": [
        "G=producto_cartesiano(X)\n",
        "\n",
        "print(G)\n",
        "print(R.issubset(G))\n"
      ]
    },
    {
      "cell_type": "code",
      "execution_count": 4,
      "metadata": {
        "id": "7zKuOrIWjg6J",
        "outputId": "0acb93f5-145e-4d85-b875-01f75a467b2d",
        "colab": {
          "base_uri": "https://localhost:8080/"
        }
      },
      "outputs": [
        {
          "output_type": "execute_result",
          "data": {
            "text/plain": [
              "16"
            ]
          },
          "metadata": {},
          "execution_count": 4
        }
      ],
      "source": [
        "len(G)"
      ]
    },
    {
      "cell_type": "code",
      "execution_count": 5,
      "metadata": {
        "id": "W8PWM2Vrjg6J"
      },
      "outputs": [],
      "source": [
        "reflexiva = lambda R :{a for (a,b) in R if a==b} == {a for (a,b) in R} | {b for (a,b) in R}\n",
        "\n",
        "simetrica = lambda R :{(b,a) for (a,b) in R if a!=b}.issubset(R)\n",
        "\n",
        "transitiva = lambda R : {(a,d) for (a,b) in R for (c,d) in R if b==c and a!=d}.issubset(R)"
      ]
    },
    {
      "cell_type": "code",
      "execution_count": 7,
      "metadata": {
        "id": "rDbOl0-Bjg6J",
        "outputId": "7a182904-70be-4a8c-86a6-400c4076836d",
        "scrolled": true,
        "colab": {
          "base_uri": "https://localhost:8080/"
        }
      },
      "outputs": [
        {
          "output_type": "stream",
          "name": "stdout",
          "text": [
            "{('d', 'a'), ('b', 'd'), ('b', 'a'), ('c', 'b'), ('d', 'c'), ('a', 'b'), ('d', 'b'), ('c', 'c'), ('b', 'b'), ('a', 'c'), ('a', 'a'), ('b', 'c'), ('c', 'a'), ('d', 'd'), ('c', 'd'), ('a', 'd')}\n",
            "simetrica: True\n"
          ]
        }
      ],
      "source": [
        "print(G)\n",
        "print('simetrica:',simetrica(G))"
      ]
    },
    {
      "cell_type": "code",
      "execution_count": 9,
      "metadata": {
        "id": "m1f3j9mojg6K",
        "outputId": "fd96b8a7-238b-4a3e-9e2e-8a40848355bf",
        "colab": {
          "base_uri": "https://localhost:8080/"
        }
      },
      "outputs": [
        {
          "output_type": "execute_result",
          "data": {
            "text/plain": [
              "True"
            ]
          },
          "metadata": {},
          "execution_count": 9
        }
      ],
      "source": [
        "transitiva(G)"
      ]
    },
    {
      "cell_type": "markdown",
      "metadata": {
        "id": "k9ugUr7Ljg6K"
      },
      "source": [
        "# Tarea 1\n",
        "\n",
        "    1. Implemente una funcion para creae el conjunto potencia de un conjunto."
      ]
    },
    {
      "cell_type": "code",
      "execution_count": null,
      "metadata": {
        "colab": {
          "base_uri": "https://localhost:8080/"
        },
        "id": "Fpkpv3Gdjg6L",
        "outputId": "ce1f10f5-2afc-4bfa-d4a0-acb8f5c41990"
      },
      "outputs": [
        {
          "name": "stdout",
          "output_type": "stream",
          "text": [
            "True\n",
            "True\n",
            "True\n"
          ]
        }
      ],
      "source": [
        "class Line:\n",
        "    def __init__(self, _p1, _p2):\n",
        "        self.points = {_p1,_p2}\n",
        "        \n",
        "    def __hash__ ( self ):\n",
        "        id=0\n",
        "        for point in self.points:\n",
        "            id+=hash(point)\n",
        "        return id\n",
        "    \n",
        "    def __eq__ ( self , other ):\n",
        "        return self.points==other.points \n",
        "\n",
        "    def slope(self):\n",
        "        p1=list(self.points)[0]\n",
        "        p2=list(self.points)[1]\n",
        "        if (p2[0]-p1[0])==0:\n",
        "            return 0\n",
        "        else:\n",
        "            return (p2[1]-p1[1])/(p2[0]-p1[0])\n",
        "        \n",
        "    def intercept(self):\n",
        "        m=self.slope()\n",
        "        p1=list(self.points)[0]\n",
        "        return p1[1] - m * p1[0]\n",
        "\n",
        "    def is_orthogonal(self,other):\n",
        "        m1=self.slope()\n",
        "        m2=other.slope()\n",
        "        if m1!=m2:\n",
        "            return m1*m2==-1.\n",
        "        else:\n",
        "            return False\n",
        "\n",
        "    def is_parallel(self,other):\n",
        "        m1=self.slope()\n",
        "        m2=other.slope()\n",
        "        if m1==0 or m2==0:\n",
        "            p1=list(self.points)[0]\n",
        "            p2=list(self.points)[1]\n",
        "            p3=list(self.points)[0]\n",
        "            p4=list(self.points)[1]\n",
        "            if (p2[1]-p1[1])==(p4[1]-p3[1]):\n",
        "                return True\n",
        "            else:\n",
        "                return False\n",
        "        else:\n",
        "            return m1==m2        \n",
        "    \n",
        "    def __str__(self):\n",
        "        return str(self.points) \n",
        "    \n",
        "    def __repr__(self):\n",
        "        return str(self.points) \n",
        "    \n",
        "l1=Line((0,0),(1,1))\n",
        "l2=Line((1,1),(0,0))\n",
        "l3=Line((0,1),(1,0))\n",
        "\n",
        "print(l1==l2)\n",
        "\n",
        "print(l1.is_orthogonal(l3))\n",
        "\n",
        "l4=Line((1,1),(2,2))\n",
        "print(l1.is_parallel(l4))"
      ]
    },
    {
      "cell_type": "code",
      "execution_count": null,
      "metadata": {
        "id": "yjrJuvDdh6kC",
        "outputId": "be99c67a-4ecf-48de-98fa-fa2db745bd59"
      },
      "outputs": [
        {
          "data": {
            "text/plain": [
              "1"
            ]
          },
          "execution_count": 223,
          "metadata": {},
          "output_type": "execute_result"
        }
      ],
      "source": [
        "l2.slope()"
      ]
    },
    {
      "cell_type": "code",
      "execution_count": null,
      "metadata": {
        "id": "yD49LCKEh6kD",
        "outputId": "3335ee4b-3861-4d93-9bad-1a0c9b906705"
      },
      "outputs": [
        {
          "data": {
            "text/plain": [
              "1"
            ]
          },
          "execution_count": 225,
          "metadata": {},
          "output_type": "execute_result"
        }
      ],
      "source": [
        "l1.slope()"
      ]
    },
    {
      "cell_type": "code",
      "execution_count": null,
      "metadata": {
        "colab": {
          "base_uri": "https://localhost:8080/"
        },
        "id": "u4jlJRpHyGZi",
        "outputId": "42612f68-8c46-462e-a40b-cca98e302a83"
      },
      "outputs": [
        {
          "data": {
            "text/plain": [
              "7426162181343821312"
            ]
          },
          "execution_count": 226,
          "metadata": {},
          "output_type": "execute_result"
        }
      ],
      "source": [
        "hash(l1)"
      ]
    },
    {
      "cell_type": "code",
      "execution_count": null,
      "metadata": {
        "colab": {
          "base_uri": "https://localhost:8080/"
        },
        "id": "6yInky1o-oN7",
        "outputId": "dec50c52-91ce-4942-d924-3cd088e339fa"
      },
      "outputs": [
        {
          "data": {
            "text/plain": [
              "7426162181343821312"
            ]
          },
          "execution_count": 227,
          "metadata": {},
          "output_type": "execute_result"
        }
      ],
      "source": [
        "hash(l2)"
      ]
    },
    {
      "cell_type": "code",
      "execution_count": null,
      "metadata": {
        "id": "o968fQPrh6kE",
        "outputId": "04114e57-a1b7-41b8-8870-ecd54f249520"
      },
      "outputs": [
        {
          "data": {
            "text/plain": [
              "{(0, 0), (1, 1)}"
            ]
          },
          "execution_count": 228,
          "metadata": {},
          "output_type": "execute_result"
        }
      ],
      "source": [
        "l1"
      ]
    },
    {
      "cell_type": "code",
      "execution_count": null,
      "metadata": {
        "id": "50o7q4MQh6kE",
        "outputId": "c6002ad9-d23b-4399-8b34-e452a38e5075"
      },
      "outputs": [
        {
          "data": {
            "text/plain": [
              "{(0, 0), (1, 1)}"
            ]
          },
          "execution_count": 229,
          "metadata": {},
          "output_type": "execute_result"
        }
      ],
      "source": [
        "l2"
      ]
    },
    {
      "cell_type": "markdown",
      "metadata": {
        "id": "Ie4k1Ifjjg6L"
      },
      "source": [
        "# Tarea 2\n",
        "\n",
        "Considere todas lineas que pasan por los puntos en $I=\\{0,1,2,\\ldots,10\\}$, tal que cada linea une un punto $(a,b)$ con otro punto $(c,d)$ tal que $a,b,c,d \\in I$.\n",
        "\n",
        "   1. Defina una relación $\\rho_1$ sobre lineas tal que $l_1 \\perp l_2$ para todas las lineas $(l_1,l_2)$ en $\\rho_1$ y $l_i \\in \\mathbb R^2$.\n",
        "   2. Defina una relación $\\rho_2$ sobre lineas tal que $l_1 \\parallel l_2$ para todas las lineas $(l_1,l_2)$ en $\\rho_2$ y $l_i \\in \\mathbb R^2$.\n",
        "   3. Implemente una función para revisar reflexividad, simetría y transitividad sobre $\\rho_1$ y $\\rho_2$"
      ]
    },
    {
      "cell_type": "code",
      "execution_count": null,
      "metadata": {
        "id": "Fy8IUoTJjg6M"
      },
      "outputs": [],
      "source": [
        "I=set({0,1})"
      ]
    },
    {
      "cell_type": "code",
      "execution_count": null,
      "metadata": {
        "id": "Y_Pm9wuxjg6M"
      },
      "outputs": [],
      "source": [
        "points={(x,y) for x in I for y in I}"
      ]
    },
    {
      "cell_type": "code",
      "execution_count": null,
      "metadata": {
        "id": "82x2WG76h6kG"
      },
      "outputs": [],
      "source": [
        "#points"
      ]
    },
    {
      "cell_type": "code",
      "execution_count": null,
      "metadata": {
        "id": "XiB0LcgAmnxJ"
      },
      "outputs": [],
      "source": [
        "lines={Line(p1,p2) for p1 in points for p2 in points if p1!=p2}"
      ]
    },
    {
      "cell_type": "code",
      "execution_count": null,
      "metadata": {
        "id": "jYmciVc8h6kH",
        "outputId": "0f72ace0-eb99-4ca3-cf9c-319324e1e0e4"
      },
      "outputs": [
        {
          "data": {
            "text/plain": [
              "{{(0, 0), (1, 1)},\n",
              " {(0, 1), (0, 0)},\n",
              " {(0, 1), (1, 0)},\n",
              " {(0, 1), (1, 1)},\n",
              " {(1, 0), (0, 0)},\n",
              " {(1, 0), (1, 1)}}"
            ]
          },
          "execution_count": 276,
          "metadata": {},
          "output_type": "execute_result"
        }
      ],
      "source": [
        "lines"
      ]
    },
    {
      "cell_type": "code",
      "execution_count": null,
      "metadata": {
        "id": "upX2OA2kh6kH",
        "outputId": "a6d06311-6fb8-48b2-e69d-95ff532970f1"
      },
      "outputs": [
        {
          "data": {
            "text/plain": [
              "6"
            ]
          },
          "execution_count": 277,
          "metadata": {},
          "output_type": "execute_result"
        }
      ],
      "source": [
        "len(lines)"
      ]
    },
    {
      "cell_type": "code",
      "execution_count": null,
      "metadata": {
        "id": "62f_BzyLh6kH",
        "outputId": "21b44b69-f3b4-46dc-9af8-2edfc659535b"
      },
      "outputs": [
        {
          "name": "stdout",
          "output_type": "stream",
          "text": [
            "6\n"
          ]
        }
      ],
      "source": [
        "n=len(points)\n",
        "\n",
        "j=0\n",
        "for i in range(1,n):\n",
        "    j=j+i\n",
        "print(j)"
      ]
    },
    {
      "cell_type": "code",
      "execution_count": null,
      "metadata": {
        "id": "tCkOnu12zP4s"
      },
      "outputs": [],
      "source": [
        "parallel={(l1,l2) for l1 in lines for l2 in lines if l1.is_parallel(l2)}"
      ]
    },
    {
      "cell_type": "code",
      "execution_count": null,
      "metadata": {
        "id": "gnIha2xE1dqB"
      },
      "outputs": [],
      "source": [
        "producto_cartesiano_lineas={(l1,l2) for l1 in lines for l2 in lines}"
      ]
    },
    {
      "cell_type": "code",
      "execution_count": null,
      "metadata": {
        "id": "5Tlsa96Zh6kI",
        "outputId": "d4444252-f158-452b-9e47-24a77033d5d4"
      },
      "outputs": [
        {
          "data": {
            "text/plain": [
              "36"
            ]
          },
          "execution_count": 281,
          "metadata": {},
          "output_type": "execute_result"
        }
      ],
      "source": [
        "len(producto_cartesiano_lineas)"
      ]
    },
    {
      "cell_type": "code",
      "execution_count": null,
      "metadata": {
        "colab": {
          "base_uri": "https://localhost:8080/"
        },
        "id": "sitS_FYS5oLb",
        "outputId": "d35cec2f-ac83-4850-9612-006de6040138"
      },
      "outputs": [
        {
          "data": {
            "text/plain": [
              "True"
            ]
          },
          "execution_count": 283,
          "metadata": {},
          "output_type": "execute_result"
        }
      ],
      "source": [
        "parallel.issubset(producto_cartesiano_lineas)"
      ]
    },
    {
      "cell_type": "code",
      "execution_count": null,
      "metadata": {
        "id": "YJK5R2heh6kK",
        "outputId": "fca54d45-605a-478a-ac7e-47299dff1a1b"
      },
      "outputs": [
        {
          "data": {
            "text/plain": [
              "14"
            ]
          },
          "execution_count": 284,
          "metadata": {},
          "output_type": "execute_result"
        }
      ],
      "source": [
        "len(parallel)"
      ]
    },
    {
      "cell_type": "code",
      "execution_count": null,
      "metadata": {
        "id": "eLyiZ6OHh6kK",
        "outputId": "0a97c2f0-75e3-451b-c627-c0297109e2b2"
      },
      "outputs": [
        {
          "data": {
            "text/plain": [
              "{({(0, 0), (1, 1)}, {(0, 0), (1, 1)}),\n",
              " ({(0, 0), (1, 1)}, {(0, 1), (1, 1)}),\n",
              " ({(0, 0), (1, 1)}, {(1, 0), (0, 0)}),\n",
              " ({(0, 1), (0, 0)}, {(0, 1), (0, 0)}),\n",
              " ({(0, 1), (0, 0)}, {(1, 0), (1, 1)}),\n",
              " ({(0, 1), (1, 0)}, {(0, 1), (1, 0)}),\n",
              " ({(0, 1), (1, 1)}, {(0, 0), (1, 1)}),\n",
              " ({(0, 1), (1, 1)}, {(0, 1), (1, 1)}),\n",
              " ({(0, 1), (1, 1)}, {(1, 0), (0, 0)}),\n",
              " ({(1, 0), (0, 0)}, {(0, 0), (1, 1)}),\n",
              " ({(1, 0), (0, 0)}, {(0, 1), (1, 1)}),\n",
              " ({(1, 0), (0, 0)}, {(1, 0), (0, 0)}),\n",
              " ({(1, 0), (1, 1)}, {(0, 1), (0, 0)}),\n",
              " ({(1, 0), (1, 1)}, {(1, 0), (1, 1)})}"
            ]
          },
          "execution_count": 285,
          "metadata": {},
          "output_type": "execute_result"
        }
      ],
      "source": [
        "parallel"
      ]
    },
    {
      "cell_type": "code",
      "execution_count": null,
      "metadata": {
        "colab": {
          "base_uri": "https://localhost:8080/"
        },
        "id": "zQ7Qk7WU2cAe",
        "outputId": "ff4d2ae9-342b-4454-86ca-61422f388eb3"
      },
      "outputs": [
        {
          "ename": "NameError",
          "evalue": "name 'plt' is not defined",
          "output_type": "error",
          "traceback": [
            "\u001b[0;31m---------------------------------------------------------------------------\u001b[0m",
            "\u001b[0;31mNameError\u001b[0m                                 Traceback (most recent call last)",
            "\u001b[0;32m<ipython-input-2-d6a537b33908>\u001b[0m in \u001b[0;36m<module>\u001b[0;34m()\u001b[0m\n\u001b[1;32m      3\u001b[0m \u001b[0mp1\u001b[0m\u001b[0;34m=\u001b[0m\u001b[0mlist\u001b[0m\u001b[0;34m(\u001b[0m\u001b[0ml1\u001b[0m\u001b[0;34m.\u001b[0m\u001b[0mpoints\u001b[0m\u001b[0;34m)\u001b[0m\u001b[0;34m[\u001b[0m\u001b[0;36m0\u001b[0m\u001b[0;34m]\u001b[0m\u001b[0;34m\u001b[0m\u001b[0;34m\u001b[0m\u001b[0m\n\u001b[1;32m      4\u001b[0m \u001b[0mp2\u001b[0m\u001b[0;34m=\u001b[0m\u001b[0mlist\u001b[0m\u001b[0;34m(\u001b[0m\u001b[0ml1\u001b[0m\u001b[0;34m.\u001b[0m\u001b[0mpoints\u001b[0m\u001b[0;34m)\u001b[0m\u001b[0;34m[\u001b[0m\u001b[0;36m1\u001b[0m\u001b[0;34m]\u001b[0m\u001b[0;34m\u001b[0m\u001b[0;34m\u001b[0m\u001b[0m\n\u001b[0;32m----> 5\u001b[0;31m \u001b[0mplt\u001b[0m\u001b[0;34m.\u001b[0m\u001b[0mplot\u001b[0m\u001b[0;34m(\u001b[0m\u001b[0;34m[\u001b[0m\u001b[0mp1\u001b[0m\u001b[0;34m[\u001b[0m\u001b[0;36m0\u001b[0m\u001b[0;34m]\u001b[0m\u001b[0;34m,\u001b[0m\u001b[0mp2\u001b[0m\u001b[0;34m[\u001b[0m\u001b[0;36m0\u001b[0m\u001b[0;34m]\u001b[0m\u001b[0;34m]\u001b[0m\u001b[0;34m,\u001b[0m\u001b[0;34m[\u001b[0m\u001b[0mp1\u001b[0m\u001b[0;34m[\u001b[0m\u001b[0;36m1\u001b[0m\u001b[0;34m]\u001b[0m\u001b[0;34m,\u001b[0m\u001b[0mp2\u001b[0m\u001b[0;34m[\u001b[0m\u001b[0;36m1\u001b[0m\u001b[0;34m]\u001b[0m\u001b[0;34m]\u001b[0m\u001b[0;34m)\u001b[0m\u001b[0;34m\u001b[0m\u001b[0;34m\u001b[0m\u001b[0m\n\u001b[0m\u001b[1;32m      6\u001b[0m \u001b[0mp3\u001b[0m\u001b[0;34m=\u001b[0m\u001b[0mlist\u001b[0m\u001b[0;34m(\u001b[0m\u001b[0ml2\u001b[0m\u001b[0;34m.\u001b[0m\u001b[0mpoints\u001b[0m\u001b[0;34m)\u001b[0m\u001b[0;34m[\u001b[0m\u001b[0;36m0\u001b[0m\u001b[0;34m]\u001b[0m\u001b[0;34m\u001b[0m\u001b[0;34m\u001b[0m\u001b[0m\n\u001b[1;32m      7\u001b[0m \u001b[0mp4\u001b[0m\u001b[0;34m=\u001b[0m\u001b[0mlist\u001b[0m\u001b[0;34m(\u001b[0m\u001b[0ml2\u001b[0m\u001b[0;34m.\u001b[0m\u001b[0mpoints\u001b[0m\u001b[0;34m)\u001b[0m\u001b[0;34m[\u001b[0m\u001b[0;36m1\u001b[0m\u001b[0;34m]\u001b[0m\u001b[0;34m\u001b[0m\u001b[0;34m\u001b[0m\u001b[0m\n",
            "\u001b[0;31mNameError\u001b[0m: name 'plt' is not defined"
          ]
        }
      ],
      "source": [
        "import matplotlib.pyplot as plt\n",
        "\n",
        "l1=Line((0, 1), (1, 1))\n",
        "l2=Line((0, 0), (1, 1))\n",
        "p1=list(l1.points)[0]\n",
        "p2=list(l1.points)[1]\n",
        "plt.plot([p1[0],p2[0]],[p1[1],p2[1]])\n",
        "p3=list(l2.points)[0]\n",
        "p4=list(l2.points)[1]\n",
        "plt.plot([p3[0],p4[0]],[p3[1],p4[1]])\n",
        "plt.show()"
      ]
    },
    {
      "cell_type": "code",
      "execution_count": null,
      "metadata": {
        "id": "BeRNbEX_h6kL"
      },
      "outputs": [],
      "source": []
    },
    {
      "cell_type": "code",
      "execution_count": null,
      "metadata": {
        "colab": {
          "base_uri": "https://localhost:8080/"
        },
        "id": "o4MVMOT82yi6",
        "outputId": "d9b74910-4e2f-4152-a8c5-fc9a8aeae839"
      },
      "outputs": [
        {
          "data": {
            "text/plain": [
              "True"
            ]
          },
          "execution_count": 289,
          "metadata": {},
          "output_type": "execute_result"
        }
      ],
      "source": [
        "l1.is_parallel(l2)"
      ]
    },
    {
      "cell_type": "code",
      "execution_count": null,
      "metadata": {
        "id": "PBvHA8oRh6kL",
        "outputId": "43143da5-8732-443f-d5f5-09e2621448d5"
      },
      "outputs": [
        {
          "data": {
            "text/plain": [
              "False"
            ]
          },
          "execution_count": 290,
          "metadata": {},
          "output_type": "execute_result"
        }
      ],
      "source": [
        "l1.is_orthogonal(l2)"
      ]
    },
    {
      "cell_type": "code",
      "execution_count": null,
      "metadata": {
        "id": "WF6p-UEmh6kL",
        "outputId": "e7a9c57a-72de-468b-8c33-910b7736a033"
      },
      "outputs": [
        {
          "data": {
            "text/plain": [
              "1"
            ]
          },
          "execution_count": 291,
          "metadata": {},
          "output_type": "execute_result"
        }
      ],
      "source": [
        "l1.slope()"
      ]
    },
    {
      "cell_type": "code",
      "execution_count": null,
      "metadata": {
        "id": "E5sKpf59h6kM",
        "outputId": "800b6b07-6dc4-45ea-c3a3-0b31486b54e1"
      },
      "outputs": [
        {
          "data": {
            "text/plain": [
              "1.0"
            ]
          },
          "execution_count": 292,
          "metadata": {},
          "output_type": "execute_result"
        }
      ],
      "source": [
        "l2.slope()"
      ]
    },
    {
      "cell_type": "code",
      "execution_count": null,
      "metadata": {
        "id": "7yVHTBPQh6kM"
      },
      "outputs": [],
      "source": []
    }
  ],
  "metadata": {
    "colab": {
      "name": "1.-relaciones.ipynb",
      "provenance": []
    },
    "kernelspec": {
      "display_name": "Python 3",
      "language": "python",
      "name": "python3"
    },
    "language_info": {
      "codemirror_mode": {
        "name": "ipython",
        "version": 3
      },
      "file_extension": ".py",
      "mimetype": "text/x-python",
      "name": "python",
      "nbconvert_exporter": "python",
      "pygments_lexer": "ipython3",
      "version": "3.6.9"
    }
  },
  "nbformat": 4,
  "nbformat_minor": 0
}