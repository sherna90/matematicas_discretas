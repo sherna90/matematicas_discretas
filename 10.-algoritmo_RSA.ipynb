{
  "nbformat": 4,
  "nbformat_minor": 0,
  "metadata": {
    "colab": {
      "name": "Untitled2.ipynb",
      "provenance": [],
      "authorship_tag": "ABX9TyOvzmlCsJTXJAZoBzT7PL15",
      "include_colab_link": true
    },
    "kernelspec": {
      "name": "python3",
      "display_name": "Python 3"
    },
    "language_info": {
      "name": "python"
    }
  },
  "cells": [
    {
      "cell_type": "markdown",
      "metadata": {
        "id": "view-in-github",
        "colab_type": "text"
      },
      "source": [
        "<a href=\"https://colab.research.google.com/github/sherna90/matematicas_discretas/blob/master/10.-algoritmo_RSA.ipynb\" target=\"_parent\"><img src=\"https://colab.research.google.com/assets/colab-badge.svg\" alt=\"Open In Colab\"/></a>"
      ]
    },
    {
      "cell_type": "code",
      "metadata": {
        "colab": {
          "base_uri": "https://localhost:8080/"
        },
        "id": "FXhkan7CBT_6",
        "outputId": "30de05ab-fac7-404d-8cf1-3ebd6538d329"
      },
      "source": [
        "!pip install cryptography"
      ],
      "execution_count": 1,
      "outputs": [
        {
          "output_type": "stream",
          "name": "stdout",
          "text": [
            "Looking in indexes: https://pypi.org/simple, https://us-python.pkg.dev/colab-wheels/public/simple/\n",
            "Collecting cryptography\n",
            "  Downloading cryptography-37.0.2-cp36-abi3-manylinux_2_24_x86_64.whl (4.0 MB)\n",
            "\u001b[K     |████████████████████████████████| 4.0 MB 4.2 MB/s \n",
            "\u001b[?25hRequirement already satisfied: cffi>=1.12 in /usr/local/lib/python3.7/dist-packages (from cryptography) (1.15.0)\n",
            "Requirement already satisfied: pycparser in /usr/local/lib/python3.7/dist-packages (from cffi>=1.12->cryptography) (2.21)\n",
            "Installing collected packages: cryptography\n",
            "Successfully installed cryptography-37.0.2\n"
          ]
        }
      ]
    },
    {
      "cell_type": "code",
      "source": [
        "public_exponent=65537"
      ],
      "metadata": {
        "id": "chERRQv4vImU"
      },
      "execution_count": 96,
      "outputs": []
    },
    {
      "cell_type": "code",
      "metadata": {
        "id": "DE3FVAl3Bti3"
      },
      "source": [
        "from cryptography.hazmat.backends import default_backend\n",
        "from cryptography.hazmat.primitives.asymmetric import rsa\n",
        "from cryptography.hazmat.primitives import serialization\n",
        "\n",
        "private_key = rsa.generate_private_key(public_exponent=public_exponent,key_size=512,backend=default_backend())\n",
        "# Extract the public key from the private key.\n",
        "public_key = private_key.public_key()\n",
        "private_key_bytes = private_key.private_bytes(encoding=serialization.Encoding.PEM,\n",
        "                                              format=serialization.PrivateFormat.TraditionalOpenSSL,encryption_algorithm=serialization.NoEncryption())\n",
        "# Convert the public key into bytes.\n",
        "public_key_bytes = public_key.public_bytes(encoding=serialization.Encoding.PEM,format=serialization.PublicFormat.SubjectPublicKeyInfo)\n",
        "\n",
        "# Convert the private key bytes back to a key.\n",
        "# Because there is no encryption of the key, there is no password.\n",
        "private_key = serialization.load_pem_private_key(private_key_bytes,backend=default_backend(),password=None)\n",
        "public_key = serialization.load_pem_public_key(public_key_bytes,backend=default_backend())"
      ],
      "execution_count": 98,
      "outputs": []
    },
    {
      "cell_type": "code",
      "metadata": {
        "colab": {
          "base_uri": "https://localhost:8080/"
        },
        "id": "20Ag-mC9CLuQ",
        "outputId": "42fc0aa6-271d-4cd8-f010-610d2b2597b1"
      },
      "source": [
        "public_key.public_numbers()"
      ],
      "execution_count": 108,
      "outputs": [
        {
          "output_type": "execute_result",
          "data": {
            "text/plain": [
              "<RSAPublicNumbers(e=65537, n=10696687679368744404803073101319228517687924352091391894063774552535887477893597679773514178491119786400897663106462072593407825313233810287193946799810009)>"
            ]
          },
          "metadata": {},
          "execution_count": 108
        }
      ]
    },
    {
      "cell_type": "markdown",
      "source": [
        ""
      ],
      "metadata": {
        "id": "J0aHi7CGy9U6"
      }
    },
    {
      "cell_type": "code",
      "metadata": {
        "id": "Vu-ZBLAuENC-"
      },
      "source": [
        "e,n=public_key.public_numbers().e,public_key.public_numbers().n"
      ],
      "execution_count": 100,
      "outputs": []
    },
    {
      "cell_type": "code",
      "source": [
        "p,q=private_key.private_numbers().p,private_key.private_numbers().q"
      ],
      "metadata": {
        "id": "zIP_7FvqzM3z"
      },
      "execution_count": 101,
      "outputs": []
    },
    {
      "cell_type": "code",
      "source": [
        "def gcdExtended(a, b):\n",
        "    # Base Case\n",
        "    if a == 0 : \n",
        "        return b, 0, 1\n",
        "    gcd, x1, y1 = gcdExtended(b%a, a)\n",
        "    # Update x and y using results of recursive\n",
        "    # call\n",
        "    x = y1 - (b//a) * x1\n",
        "    y = x1    \n",
        "    return gcd, x, y\n"
      ],
      "metadata": {
        "id": "UzpASpoh1LQV"
      },
      "execution_count": 102,
      "outputs": []
    },
    {
      "cell_type": "code",
      "source": [
        "private_key.private_numbers().d"
      ],
      "metadata": {
        "id": "dZaF4H182mKL",
        "outputId": "4d948e1f-77a9-473d-916a-e503d60e16bf",
        "colab": {
          "base_uri": "https://localhost:8080/"
        }
      },
      "execution_count": 117,
      "outputs": [
        {
          "output_type": "execute_result",
          "data": {
            "text/plain": [
              "306846099717918725010753886056428423840781509405859541340615166375749095296390961717767476989952622735540030868995184536512289394593762996849881336398433"
            ]
          },
          "metadata": {},
          "execution_count": 117
        }
      ]
    },
    {
      "cell_type": "code",
      "source": [
        ""
      ],
      "metadata": {
        "id": "gk1Fw_X3177R"
      },
      "execution_count": 117,
      "outputs": []
    },
    {
      "cell_type": "code",
      "source": [
        "gcd,x,y=gcdExtended(e,(p-1)*(q-1))"
      ],
      "metadata": {
        "id": "0SFNruH31n1K"
      },
      "execution_count": 118,
      "outputs": []
    },
    {
      "cell_type": "code",
      "metadata": {
        "id": "7SHNDSEiDtCk"
      },
      "source": [
        "def powmod(a: int, e: int, n: int) -> int:\n",
        "    accum: int = 1\n",
        "    apow2: int = a\n",
        "    while e > 0:\n",
        "        if e & 1:\n",
        "            accum = (accum * apow2) % n\n",
        "        apow2 = (apow2 * apow2) % n\n",
        "        e = e >> 1\n",
        "    return accum\n",
        "\n",
        "def simple_rsa_encrypt(m, publickey):\n",
        "  numbers = publickey.public_numbers()\n",
        "  return powmod(m, numbers.e, numbers.n)\n",
        "\n",
        "def simple_rsa_decrypt(c, privatekey):\n",
        "  numbers = privatekey.private_numbers()\n",
        "  return powmod(c, numbers.d, numbers.public_numbers.n)\n",
        "\n",
        "def int_to_bytes(i):\n",
        "  i = int(i)\n",
        "  return i.to_bytes((i.bit_length()+7)//8, byteorder='big')\n",
        "\n",
        "def bytes_to_int(b):\n",
        "  return int.from_bytes(b, byteorder='big')"
      ],
      "execution_count": 34,
      "outputs": []
    }
  ]
}