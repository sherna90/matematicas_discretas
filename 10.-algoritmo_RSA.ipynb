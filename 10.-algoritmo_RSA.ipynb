{
  "nbformat": 4,
  "nbformat_minor": 0,
  "metadata": {
    "colab": {
      "name": "Untitled2.ipynb",
      "provenance": [],
      "authorship_tag": "ABX9TyN/oQ1BFF/brsSrI8WNBhbk",
      "include_colab_link": true
    },
    "kernelspec": {
      "name": "python3",
      "display_name": "Python 3"
    },
    "language_info": {
      "name": "python"
    }
  },
  "cells": [
    {
      "cell_type": "markdown",
      "metadata": {
        "id": "view-in-github",
        "colab_type": "text"
      },
      "source": [
        "<a href=\"https://colab.research.google.com/github/sherna90/matematicas_discretas/blob/master/10.-algoritmo_RSA.ipynb\" target=\"_parent\"><img src=\"https://colab.research.google.com/assets/colab-badge.svg\" alt=\"Open In Colab\"/></a>"
      ]
    },
    {
      "cell_type": "markdown",
      "source": [
        "# Tarea Algoritmo RSA\n",
        "\n",
        "En esta tarea Ud. debe implementar un sistema de cifrado y descifrado utilizando el algoritmo RSA. "
      ],
      "metadata": {
        "id": "zaF4sVyj647P"
      }
    },
    {
      "cell_type": "code",
      "metadata": {
        "colab": {
          "base_uri": "https://localhost:8080/"
        },
        "id": "FXhkan7CBT_6",
        "outputId": "60e6e106-71f9-4a54-a20d-23476ad8f7ed"
      },
      "source": [
        "!pip install cryptography"
      ],
      "execution_count": 130,
      "outputs": [
        {
          "output_type": "stream",
          "name": "stdout",
          "text": [
            "Looking in indexes: https://pypi.org/simple, https://us-python.pkg.dev/colab-wheels/public/simple/\n",
            "Requirement already satisfied: cryptography in /usr/local/lib/python3.7/dist-packages (37.0.2)\n",
            "Requirement already satisfied: cffi>=1.12 in /usr/local/lib/python3.7/dist-packages (from cryptography) (1.15.0)\n",
            "Requirement already satisfied: pycparser in /usr/local/lib/python3.7/dist-packages (from cffi>=1.12->cryptography) (2.21)\n"
          ]
        }
      ]
    },
    {
      "cell_type": "code",
      "source": [
        "public_exponent=65537"
      ],
      "metadata": {
        "id": "chERRQv4vImU"
      },
      "execution_count": 96,
      "outputs": []
    },
    {
      "cell_type": "code",
      "metadata": {
        "id": "DE3FVAl3Bti3"
      },
      "source": [
        "from cryptography.hazmat.backends import default_backend\n",
        "from cryptography.hazmat.primitives.asymmetric import rsa\n",
        "from cryptography.hazmat.primitives import serialization\n",
        "\n",
        "private_key = rsa.generate_private_key(public_exponent=public_exponent,key_size=512,backend=default_backend())\n",
        "# Extract the public key from the private key.\n",
        "public_key = private_key.public_key()\n",
        "private_key_bytes = private_key.private_bytes(encoding=serialization.Encoding.PEM,\n",
        "                                              format=serialization.PrivateFormat.TraditionalOpenSSL,encryption_algorithm=serialization.NoEncryption())\n",
        "# Convert the public key into bytes.\n",
        "public_key_bytes = public_key.public_bytes(encoding=serialization.Encoding.PEM,format=serialization.PublicFormat.SubjectPublicKeyInfo)\n",
        "\n",
        "# Convert the private key bytes back to a key.\n",
        "# Because there is no encryption of the key, there is no password.\n",
        "private_key = serialization.load_pem_private_key(private_key_bytes,backend=default_backend(),password=None)\n",
        "public_key = serialization.load_pem_public_key(public_key_bytes,backend=default_backend())"
      ],
      "execution_count": 125,
      "outputs": []
    },
    {
      "cell_type": "markdown",
      "source": [
        ""
      ],
      "metadata": {
        "id": "J0aHi7CGy9U6"
      }
    },
    {
      "cell_type": "code",
      "metadata": {
        "id": "Vu-ZBLAuENC-"
      },
      "source": [
        "e,n=public_key.public_numbers().e,public_key.public_numbers().n"
      ],
      "execution_count": 126,
      "outputs": []
    },
    {
      "cell_type": "code",
      "source": [
        "p,q=private_key.private_numbers().p,private_key.private_numbers().q"
      ],
      "metadata": {
        "id": "zIP_7FvqzM3z"
      },
      "execution_count": 127,
      "outputs": []
    },
    {
      "cell_type": "code",
      "source": [
        "def gcdExtended(a, b):\n",
        "    # Base Case\n",
        "    if a == 0 : \n",
        "        return b, 0, 1\n",
        "    gcd, x1, y1 = gcdExtended(b%a, a)\n",
        "    # Update x and y using results of recursive\n",
        "    # call\n",
        "    x = y1 - (b//a) * x1\n",
        "    y = x1    \n",
        "    return gcd, x, y\n"
      ],
      "metadata": {
        "id": "UzpASpoh1LQV"
      },
      "execution_count": 128,
      "outputs": []
    },
    {
      "cell_type": "code",
      "metadata": {
        "id": "7SHNDSEiDtCk"
      },
      "source": [
        "def powmod(a, e, n):\n",
        "    accum = 1\n",
        "    apow2 = a\n",
        "    while e > 0:\n",
        "        if e & 1:\n",
        "            accum = (accum * apow2) % n\n",
        "        apow2 = (apow2 * apow2) % n\n",
        "        e = e >> 1\n",
        "    return accum\n",
        "\n",
        "def simple_rsa_encrypt(m, publickey):\n",
        "  numbers = publickey.public_numbers()\n",
        "  return powmod(m, numbers.e, numbers.n)\n",
        "\n",
        "def int_to_bytes(i):\n",
        "  i = int(i)\n",
        "  return i.to_bytes((i.bit_length()+7)//8, byteorder='big')\n",
        "\n",
        "def bytes_to_int(b):\n",
        "  return int.from_bytes(b, byteorder='big')"
      ],
      "execution_count": 129,
      "outputs": []
    },
    {
      "cell_type": "markdown",
      "source": [
        "# Tarea\n",
        "\n",
        "\n",
        "\n",
        "1.   Calcule el valor de $\\phi=(p-1)*(q-1)$\n",
        "2.   Calcule el valor del exponente $d$ de la llave privada, usando la relacion $e*d \\equiv 1 (\\textrm{mod}\\,\\phi)$\n",
        "3.   Utilice la llave publica para encriptar el mensaje (tip : convierta la cadena de caracteres en bytes y luego a enteros )\n",
        "4.   Utilice la llave privada para desencriptar y verifique que el mensaje corresponde al mensaje original.\n",
        "\n"
      ],
      "metadata": {
        "id": "dhCj-R1T5GU7"
      }
    }
  ]
}