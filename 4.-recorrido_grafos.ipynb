{
  "cells": [
    {
      "cell_type": "markdown",
      "metadata": {
        "id": "edHZdRjWX3nJ"
      },
      "source": [
        "<h1>Recorrido de Grafos</h1>\n",
        "\n",
        "Dado un grafo ponderado $(G , w )$ donde $G = (V , E )$ y $w : E  \\mapsto \\mathbb R$, un\n",
        "arbol de expansión mı́nima es un arbol de expansión en el que la suma\n",
        "de los pesos w de las aristas es mı́nima.\n",
        "\n",
        "<h2>Algoritmo Prim</h2>\n",
        "\n",
        "El algoritmo de Prim construye un arbol visitando vértices de\n",
        "manera iterativa hasta que se obtiene un árbol de expansión mı́nima.Se comienza desde un vértice cualquiera y en cada iteración se agrega la arista que tenga el mı́nimo peso y no complete un ciclo.\n",
        "La complejidad computacional del algoritmo de Prim es $O(V \\operatorname{log} V)$.\n",
        "El siguiente pseudo-código implementa el algoritmo mediante una cola de prioridad:\n",
        "\n",
        "\n",
        "<img src=\"https://github.com/sherna90/matematicas_discretas/blob/master/images/algoritmo_prim.png?raw=1\" />\n",
        "\n",
        "<h2>Algoritmo Kruskal</h2>\n",
        "\n",
        "El algoritmo de Kruskal construye un arbol visitando aristas de\n",
        "manera iterativa hasta que se obtiene un árbol de expansión mı́nima.\n",
        "Se comienza desde un vértice cualquiera y en cada iteración se\n",
        "agrega la arista que tenga el mı́nimo peso y no complete un ciclo.\n",
        "La complejidad computacional del algoritmo de Kruskal es $O(E \\operatorname{log} E)$.\n",
        "\n",
        "\n",
        "<img src=\"https://github.com/sherna90/matematicas_discretas/blob/master/images/algoritmo_kruskal.png?raw=1\" />"
      ]
    },
    {
      "cell_type": "code",
      "execution_count": 1,
      "metadata": {
        "id": "DWJNos2MX3nM"
      },
      "outputs": [],
      "source": [
        "import networkx as nx\n",
        "\n",
        "G = nx.Graph()  # or DiGraph, MultiGraph, MultiDiGraph, etc\n",
        "E={(1,2):1,(3,4):2,(2,4):1}\n",
        "G.add_weighted_edges_from([ (u,v,w) for (u,v),w in E.items()])\n"
      ]
    },
    {
      "cell_type": "code",
      "execution_count": 2,
      "metadata": {
        "colab": {
          "base_uri": "https://localhost:8080/",
          "height": 516
        },
        "id": "YwP7L1dqX3nN",
        "outputId": "17d10688-ab38-418b-fcd0-d712522d226f"
      },
      "outputs": [
        {
          "output_type": "display_data",
          "data": {
            "text/plain": [
              "<Figure size 640x480 with 1 Axes>"
            ],
            "image/png": "[encoded data removed]"
          },
          "metadata": {}
        }
      ],
      "source": [
        "import matplotlib.pyplot as plt\n",
        "\n",
        "options = {\n",
        "    \"font_size\": 18,\n",
        "    \"node_size\": 700,\n",
        "    \"node_color\": \"white\",\n",
        "    \"edgecolors\": \"black\",\n",
        "    \"linewidths\": 3,\n",
        "    \"width\": 3,\n",
        "    'with_labels':True\n",
        "}\n",
        "nx.draw(G,**options)\n",
        "ax = plt.gca()\n",
        "ax.margins(0.20)\n",
        "plt.axis(\"off\")\n",
        "plt.show()"
      ]
    },
    {
      "cell_type": "code",
      "execution_count": null,
      "metadata": {
        "id": "9Xzu9zw3X3nO"
      },
      "outputs": [],
      "source": [
        "T_prim=nx.minimum_spanning_tree(G,algorithm='prim')"
      ]
    },
    {
      "cell_type": "code",
      "execution_count": null,
      "metadata": {
        "id": "ZatzHVmEX3nO",
        "outputId": "8ca6fc1b-f495-4003-99c9-0d04e5855de3"
      },
      "outputs": [
        {
          "data": {
            "image/png": "[encoded data removed]",
            "text/plain": [
              "<Figure size 432x288 with 1 Axes>"
            ]
          },
          "metadata": {},
          "output_type": "display_data"
        }
      ],
      "source": [
        "nx.draw(T_prim,**options)"
      ]
    },
    {
      "cell_type": "code",
      "execution_count": 3,
      "metadata": {
        "id": "WHRr309NX3nP"
      },
      "outputs": [],
      "source": [
        "try:\n",
        "  import google.colab\n",
        "  IN_COLAB = True\n",
        "except:\n",
        "  IN_COLAB = False"
      ]
    },
    {
      "cell_type": "code",
      "source": [
        "IN_COLAB"
      ],
      "metadata": {
        "colab": {
          "base_uri": "https://localhost:8080/"
        },
        "id": "bOsxpAMbYGpm",
        "outputId": "462805a2-ba6e-48e4-e6da-3ddd0103a7c7"
      },
      "execution_count": 4,
      "outputs": [
        {
          "output_type": "execute_result",
          "data": {
            "text/plain": [
              "True"
            ]
          },
          "metadata": {},
          "execution_count": 4
        }
      ]
    },
    {
      "cell_type": "code",
      "execution_count": 8,
      "metadata": {
        "colab": {
          "base_uri": "https://localhost:8080/"
        },
        "id": "OsXMQcSGX3nP",
        "outputId": "9d310c2e-dec1-4086-8ca7-823c94ff0c88"
      },
      "outputs": [
        {
          "output_type": "stream",
          "name": "stdout",
          "text": [
            "--2023-05-29 02:41:26--  https://raw.githubusercontent.com/sherna90/matematicas_discretas/master/data/talca_ciclovias.graphml\n",
            "Resolving raw.githubusercontent.com (raw.githubusercontent.com)... 185.199.108.133, 185.199.109.133, 185.199.110.133, ...\n",
            "Connecting to raw.githubusercontent.com (raw.githubusercontent.com)|185.199.108.133|:443... connected.\n",
            "HTTP request sent, awaiting response... 200 OK\n",
            "Length: 7007171 (6.7M) [text/plain]\n",
            "Saving to: ‘talca_ciclovias.graphml.1’\n",
            "\n",
            "talca_ciclovias.gra 100%[===================>]   6.68M  --.-KB/s    in 0.06s   \n",
            "\n",
            "2023-05-29 02:41:27 (116 MB/s) - ‘talca_ciclovias.graphml.1’ saved [7007171/7007171]\n",
            "\n"
          ]
        }
      ],
      "source": [
        "if IN_COLAB:\n",
        "    !wget 'https://raw.githubusercontent.com/sherna90/matematicas_discretas/master/data/talca_ciclovias.graphml'\n",
        "    G_talca=nx.read_graphml('talca_ciclovias.graphml')\n",
        "else:\n",
        "    G_talca=nx.read_graphml('data/talca_ciclovias.graphml')"
      ]
    },
    {
      "cell_type": "code",
      "source": [
        "T_talca=nx.minimum_spanning_tree(G_talca.to_undirected(),algorithm='kruskal')"
      ],
      "metadata": {
        "id": "G52duiAeaBD1"
      },
      "execution_count": 14,
      "outputs": []
    },
    {
      "cell_type": "markdown",
      "metadata": {
        "id": "yvU5JJHJX3nP"
      },
      "source": [
        "<h2>Ejercicio</h2>\n",
        "\n",
        "Se desea construir un acueducto que una las ciudades de la region del Maule. El costo en distancia se encuentra en mm en un archivo csv."
      ]
    },
    {
      "cell_type": "code",
      "execution_count": null,
      "metadata": {
        "id": "GI-OKX4yX3nP",
        "outputId": "2dcc1ca8-28da-4062-d725-f40963bfb760"
      },
      "outputs": [
        {
          "data": {
            "text/html": [
              "<div>\n",
              "<style scoped>\n",
              "    .dataframe tbody tr th:only-of-type {\n",
              "        vertical-align: middle;\n",
              "    }\n",
              "\n",
              "    .dataframe tbody tr th {\n",
              "        vertical-align: top;\n",
              "    }\n",
              "\n",
              "    .dataframe thead th {\n",
              "        text-align: right;\n",
              "    }\n",
              "</style>\n",
              "<table border=\"1\" class=\"dataframe\">\n",
              "  <thead>\n",
              "    <tr style=\"text-align: right;\">\n",
              "      <th></th>\n",
              "      <th>WKT</th>\n",
              "      <th>InputID</th>\n",
              "      <th>TargetID</th>\n",
              "      <th>Distance</th>\n",
              "    </tr>\n",
              "  </thead>\n",
              "  <tbody>\n",
              "    <tr>\n",
              "      <th>0</th>\n",
              "      <td>MULTIPOINT ((-71.661999 -35.432349),(-71.59687...</td>\n",
              "      <td>TALCA</td>\n",
              "      <td>PANGUILEMO</td>\n",
              "      <td>9402.992976</td>\n",
              "    </tr>\n",
              "    <tr>\n",
              "      <th>1</th>\n",
              "      <td>MULTIPOINT ((-71.661999 -35.432349),(-71.56431...</td>\n",
              "      <td>TALCA</td>\n",
              "      <td>HUILQUILEMU</td>\n",
              "      <td>9026.792210</td>\n",
              "    </tr>\n",
              "    <tr>\n",
              "      <th>2</th>\n",
              "      <td>MULTIPOINT ((-72.412391 -35.335426),(-71.66199...</td>\n",
              "      <td>TALCA</td>\n",
              "      <td>CONSTITUCION</td>\n",
              "      <td>69023.063640</td>\n",
              "    </tr>\n",
              "    <tr>\n",
              "      <th>3</th>\n",
              "      <td>MULTIPOINT ((-72.333641 -35.427048),(-71.66199...</td>\n",
              "      <td>TALCA</td>\n",
              "      <td>SANTA OLGA</td>\n",
              "      <td>60993.437978</td>\n",
              "    </tr>\n",
              "    <tr>\n",
              "      <th>4</th>\n",
              "      <td>MULTIPOINT ((-72.494926 -35.469452),(-71.66199...</td>\n",
              "      <td>TALCA</td>\n",
              "      <td>LOS PELLINES</td>\n",
              "      <td>75728.660537</td>\n",
              "    </tr>\n",
              "  </tbody>\n",
              "</table>\n",
              "</div>"
            ],
            "text/plain": [
              "                                                 WKT InputID      TargetID  \\\n",
              "0  MULTIPOINT ((-71.661999 -35.432349),(-71.59687...   TALCA    PANGUILEMO   \n",
              "1  MULTIPOINT ((-71.661999 -35.432349),(-71.56431...   TALCA   HUILQUILEMU   \n",
              "2  MULTIPOINT ((-72.412391 -35.335426),(-71.66199...   TALCA  CONSTITUCION   \n",
              "3  MULTIPOINT ((-72.333641 -35.427048),(-71.66199...   TALCA    SANTA OLGA   \n",
              "4  MULTIPOINT ((-72.494926 -35.469452),(-71.66199...   TALCA  LOS PELLINES   \n",
              "\n",
              "       Distance  \n",
              "0   9402.992976  \n",
              "1   9026.792210  \n",
              "2  69023.063640  \n",
              "3  60993.437978  \n",
              "4  75728.660537  "
            ]
          },
          "execution_count": 37,
          "metadata": {},
          "output_type": "execute_result"
        }
      ],
      "source": [
        "import pandas as pd\n",
        "\n",
        "df=pd.read_csv('https://raw.githubusercontent.com/sherna90/matematicas_discretas/master/data/distancias_maule.csv', encoding = 'utf-8',dtype={'WKT':str,'InputID':str,'TargetID':str,'Distance':float}) \n",
        "\n",
        "df.loc[df['InputID']=='TALCA'].head()"
      ]
    },
    {
      "cell_type": "code",
      "execution_count": null,
      "metadata": {
        "id": "wS8-Cqu-X3nQ",
        "outputId": "6df77ae7-9bb9-4037-86b3-5504c9699e07"
      },
      "outputs": [
        {
          "data": {
            "text/plain": [
              "array(['TALCA', 'PANGUILEMO', 'HUILQUILEMU', 'CONSTITUCION', 'SANTA OLGA',\n",
              "       'LOS PELLINES', 'CUREPTO', 'EMPEDRADO', 'MAULE', 'CULENAR',\n",
              "       'VILLA FRANCIA', 'CHACARILLAS', 'PELARCO', 'PENCAHUE', 'CUMPEO',\n",
              "       'SAN CLEMENTE', 'SAN RAFAEL', 'CAUQUENES', 'CHANCO', 'PELLUHUE',\n",
              "       'QUILICURA', 'CURICO', 'SARMIENTO', 'VILLA LOS NICHES',\n",
              "       'SAN ALBERTO', 'HUALAE', 'LICANTEN', 'ILOCA', 'MOLINA',\n",
              "       'ITAHUE UNO', 'RAUCO', 'ROMERAL', 'SAGRADA  FAMILIA', 'VILLA PRAT',\n",
              "       'TENO', 'LLICO', 'LAGO VICHUQUEN', 'LINARES', 'VARA GRUESA',\n",
              "       'LAS OBRAS', 'COLBUN', 'PANIMAVIDA', 'LONGAVI', 'PARRAL', 'RETIRO',\n",
              "       'COPIHUE', 'SAN JAVIER', 'BOBADILLA', 'VILLA ALEGRE',\n",
              "       'YERBAS BUENAS'], dtype=object)"
            ]
          },
          "execution_count": 67,
          "metadata": {},
          "output_type": "execute_result"
        }
      ],
      "source": [
        "df['WKT'] = df['WKT'].apply(lambda x: x.encode('ascii', 'ignore').decode('ascii'))\n",
        "df['InputID'] = df['InputID'].apply(lambda x: x.encode('ascii', 'ignore').decode('ascii'))\n",
        "df['TargetID'] = df['TargetID'].apply(lambda x: x.encode('ascii', 'ignore').decode('ascii'))\n",
        "df['InputID'].unique()"
      ]
    },
    {
      "cell_type": "code",
      "execution_count": null,
      "metadata": {
        "id": "0uzopb6AX3nQ"
      },
      "outputs": [],
      "source": [
        "import numpy as np\n",
        "from math import radians, cos, sin, asin, sqrt\n",
        "\n",
        "def haversine(lon1, lat1, lon2, lat2):\n",
        "    lon1, lat1, lon2, lat2 = map(radians, [lon1, lat1, lon2, lat2])\n",
        "    dlon = lon2 - lon1 \n",
        "    dlat = lat2 - lat1 \n",
        "    a = sin(dlat/2)**2 + cos(lat1) * cos(lat2) * sin(dlon/2)**2\n",
        "    c = 2 * asin(sqrt(a)) \n",
        "    r = 6371 # Radius of earth in kilometers. Use 3956 for miles\n",
        "    return c * r *1000\n"
      ]
    }
  ],
  "metadata": {
    "kernelspec": {
      "display_name": "Python 3",
      "language": "python",
      "name": "python3"
    },
    "language_info": {
      "codemirror_mode": {
        "name": "ipython",
        "version": 3
      },
      "file_extension": ".py",
      "mimetype": "text/x-python",
      "name": "python",
      "nbconvert_exporter": "python",
      "pygments_lexer": "ipython3",
      "version": "3.9.1"
    },
    "colab": {
      "provenance": []
    }
  },
  "nbformat": 4,
  "nbformat_minor": 0
}