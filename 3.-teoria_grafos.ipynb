{
  "cells": [
    {
      "cell_type": "markdown",
      "metadata": {
        "id": "Sw6Qje4IEpMD"
      },
      "source": [
        "<h1>Teoria de Grafos</h1>\n",
        "\n",
        "Los grafos son estructuras discretas que consisten de vértices y\n",
        "aristas que conectan los vértices. Existen disintos tipos de grafos,\n",
        "dependiendo si las aristas tienen o no dirección, si existen múltiples\n",
        "aristas para un mismo vértices o si se permiten o no lazos.\n",
        "\n",
        "Un grafo es una tupla $G = (V , E )$ donde $V$ es un conjunto (finito o\n",
        "infinito) de vértices y E es un cuna colección finita de aristas. El\n",
        "conjunto E contiene elementos de la unión de todos los subconjuntos con\n",
        "uno o dos elementos del conjunto $V$ . Esto quiere decir, que cada\n",
        "elemento de E es un subconjunto de uno o dos elementos de $V$ .\n",
        "\n"
      ]
    },
    {
      "cell_type": "code",
      "execution_count": null,
      "metadata": {
        "id": "0Ovp1syfEpMF"
      },
      "outputs": [],
      "source": [
        "import numpy as np\n",
        "\n",
        "class abstract_graph:\n",
        "    \n",
        "    def __init__(self,_edges):\n",
        "        self.edges=_edges\n",
        "        self.nodes={u for u,v in self.edges} | {v for u,v in self.edges}\n",
        "        \n",
        "    def adjacency_matrix(self):\n",
        "        pass\n",
        "    \n",
        "    def adjacency_list(self):\n",
        "        pass"
      ]
    },
    {
      "cell_type": "markdown",
      "metadata": {
        "id": "DRKoK8c4EpMG"
      },
      "source": [
        "Un grafo simple es un grafo en el cual existe sólo una arista $(u, v)$ para\n",
        "conectar dos vértices $u$ y $v$ ."
      ]
    },
    {
      "cell_type": "code",
      "execution_count": null,
      "metadata": {
        "id": "0ETEehRCEpMG",
        "outputId": "011d944a-065b-4a4b-b6ec-8221d2f95b80",
        "colab": {
          "base_uri": "https://localhost:8080/"
        }
      },
      "outputs": [
        {
          "output_type": "stream",
          "name": "stdout",
          "text": [
            "aristas [('A', 'B'), ('B', 'A'), ('C', 'D'), ('D', 'C'), ('B', 'D'), ('D', 'B'), ('B', 'A'), ('A', 'A')]\n",
            "nodos :  {'C', 'B', 'D', 'A'}\n",
            "matriz adyacencia :  [[0. 0. 1. 0.]\n",
            " [0. 0. 1. 1.]\n",
            " [1. 1. 0. 0.]\n",
            " [0. 1. 0. 1.]]\n",
            "lista adyacencia :  {'C': {'D'}, 'B': {'D', 'A'}, 'D': {'C', 'B'}, 'A': {'B', 'A'}}\n"
          ]
        }
      ],
      "source": [
        "class simple_graph(abstract_graph):\n",
        "    \n",
        "    def __init__(self,_edges):\n",
        "        tmp=[]\n",
        "        for (u,v) in _edges:\n",
        "            tmp.append((u,v))\n",
        "            if (v,u) not in tmp and v!=u:\n",
        "                tmp.append((v,u))\n",
        "        self.edges=tmp\n",
        "        self.nodes={u for u,v in _edges} | {v for u,v in _edges}\n",
        "     \n",
        "    def adjacency_matrix(self):\n",
        "        # completar\n",
        "        n=len(self.nodes)\n",
        "        mat=np.zeros((n,n))\n",
        "        for i,v in enumerate(self.nodes):\n",
        "            for j,k in enumerate(self.nodes):\n",
        "                if (v,k) in self.edges:\n",
        "                    mat[i,j]=1\n",
        "        return mat\n",
        "    \n",
        "    \n",
        "    def adjacency_list(self):\n",
        "        adjacent=lambda n : {v for u,v in self.edges if u==n } \n",
        "        return {v:adjacent(v) for v in self.nodes}\n",
        "        \n",
        "    \n",
        "\n",
        "E=[('A','B'),('C','D'),('B','D'),('B','A'),('A','A')]\n",
        "G=simple_graph(E)\n",
        "print('aristas',G.edges)\n",
        "print('nodos : ',G.nodes)\n",
        "print('matriz adyacencia : ',G.adjacency_matrix())\n",
        "print('lista adyacencia : ',G.adjacency_list())"
      ]
    },
    {
      "cell_type": "code",
      "source": [
        "E=[('a','b'),('c','a'),('c','b'),('b','d')]\n",
        "G=simple_graph(E)\n",
        "print('aristas',G.edges)\n",
        "print('nodos : ',G.nodes)\n",
        "print('matriz adyacencia : ',G.adjacency_matrix())\n",
        "print('lista adyacencia : ',G.adjacency_list())"
      ],
      "metadata": {
        "id": "Bwn1De7jHbRz",
        "outputId": "64803f29-f92f-416a-b084-254704acefc1",
        "colab": {
          "base_uri": "https://localhost:8080/"
        }
      },
      "execution_count": null,
      "outputs": [
        {
          "output_type": "stream",
          "name": "stdout",
          "text": [
            "aristas [('a', 'b'), ('b', 'a'), ('c', 'a'), ('a', 'c'), ('c', 'b'), ('b', 'c'), ('b', 'd'), ('d', 'b')]\n",
            "nodos :  {'d', 'a', 'c', 'b'}\n",
            "matriz adyacencia :  [[0. 0. 0. 1.]\n",
            " [0. 0. 1. 1.]\n",
            " [0. 1. 0. 1.]\n",
            " [1. 1. 1. 0.]]\n",
            "lista adyacencia :  {'d': {'b'}, 'a': {'c', 'b'}, 'c': {'a', 'b'}, 'b': {'d', 'a', 'c'}}\n"
          ]
        }
      ]
    },
    {
      "cell_type": "markdown",
      "metadata": {
        "id": "gNiwqYxyEpMH"
      },
      "source": [
        "Un multi-grafo simple es un grafo en el cual existe más de una arista\n",
        "$(u, v)$ para conectar dos vértices $u$ y $v$ (aristas paralelas y lazos)."
      ]
    },
    {
      "cell_type": "code",
      "execution_count": null,
      "metadata": {
        "id": "DeVThmBWEpMH",
        "outputId": "84e0eb1d-cf14-4186-d231-da512bfb5cf4"
      },
      "outputs": [
        {
          "name": "stdout",
          "output_type": "stream",
          "text": [
            "nodos :  {1, 2, 3, 4}\n",
            "aristas :  [(1, 2), (3, 4), (2, 4), (1, 2), (1, 1)]\n",
            "matriz adyacencia :  None\n",
            "lista adyacencia :  None\n"
          ]
        }
      ],
      "source": [
        "class multi_graph(abstract_graph):\n",
        "    \n",
        "\n",
        "    def adjacency_matrix(self):\n",
        "        # completar\n",
        "        pass\n",
        "    \n",
        "    def adjacency_list(self):\n",
        "        # completar\n",
        "        pass\n",
        "    \n",
        "E2=[(1,2),(3,4),(2,4),(1,2),(1,1)]\n",
        "G2=multi_graph(E2)\n",
        "print('nodos : ',G2.nodes)\n",
        "print('aristas : ',G2.edges)\n",
        "print('matriz adyacencia : ',G2.adjacency_matrix())\n",
        "print('lista adyacencia : ',G2.adjacency_list())"
      ]
    },
    {
      "cell_type": "markdown",
      "metadata": {
        "id": "VZsRDlAjEpMI"
      },
      "source": [
        "Un grafo dirigido es un grafo en el cual cada arista $(u,v)$ consiste en un\n",
        "par ordenado de vértices $u$ y $v$."
      ]
    },
    {
      "cell_type": "code",
      "execution_count": null,
      "metadata": {
        "id": "YzTPBzBuEpMI",
        "outputId": "9d05574b-f7c0-4873-9c30-a7e3222e87f6"
      },
      "outputs": [
        {
          "name": "stdout",
          "output_type": "stream",
          "text": [
            "nodos :  {1, 2, 3}\n",
            "aristas :  [(1, 2), (3, 4), (2, 4)]\n",
            "lista adyacencia :  None\n"
          ]
        }
      ],
      "source": [
        "class digraph(abstract_graph):\n",
        "    \n",
        "    def __init__(self,_edges):\n",
        "        tmp=[]\n",
        "        for (u,v) in _edges:\n",
        "            if (v,u) not in tmp:\n",
        "                tmp.append((u,v))\n",
        "        self.edges=tmp\n",
        "        self.nodes={u for u,v in self.edges} | {u for u,v in self.edges}\n",
        "\n",
        "        \n",
        "    def adjacency_matrix(self):\n",
        "        # completar\n",
        "        pass\n",
        "    \n",
        "    def adjacency_list(self):\n",
        "        # completar\n",
        "        pass\n",
        "    \n",
        "\n",
        "E3=[(1,2),(3,4),(2,4),(2,1),(2,1)]\n",
        "G3=digraph(E3)\n",
        "print('nodos : ',G3.nodes)\n",
        "print('aristas : ',G3.edges)\n",
        "print('lista adyacencia : ',G3.adjacency_list())"
      ]
    },
    {
      "cell_type": "code",
      "execution_count": null,
      "metadata": {
        "id": "KjkvLOFMEpMJ"
      },
      "outputs": [],
      "source": [
        "class weighted_graph(abstract_graph):\n",
        "    \n",
        "    def __init__(self,_edges):\n",
        "        self.edges=_edges\n",
        "        self.nodes={u for u,v in self.edges.keys()} | {v for u,v in self.edges.keys()}\n",
        "        \n",
        "    def adjacency_matrix(self):\n",
        "        # completar\n",
        "        n=len(self.nodes)\n",
        "        mat=np.zeros((n,n))\n",
        "        return mat\n",
        "    \n",
        "    def adjacency_list(self):\n",
        "        adjacent=lambda n : {v for u,v in self.edges.keys() if u==n } | {u for u,v in self.edges.keys() if v==n}\n",
        "        return {v:adjacent(v) for v in self.nodes}\n",
        "        \n",
        " "
      ]
    },
    {
      "cell_type": "code",
      "execution_count": null,
      "metadata": {
        "id": "gW0sEFPxEpMJ",
        "outputId": "d6e5c10a-3f89-429e-962d-ac17b129cae0"
      },
      "outputs": [
        {
          "name": "stdout",
          "output_type": "stream",
          "text": [
            "nodos :  {1, 2, 3, 4}\n",
            "[[0. 0. 0. 0.]\n",
            " [0. 0. 0. 0.]\n",
            " [0. 0. 0. 0.]\n",
            " [0. 0. 0. 0.]]\n",
            "lista adyacencia :  {1: {2}, 2: {1, 4}, 3: {4}, 4: {2, 3}}\n"
          ]
        }
      ],
      "source": [
        "E4={(1,2):1,(3,4):2,(2,4):1}\n",
        "G4=weighted_graph(E4)\n",
        "print('nodos : ',G4.nodes)\n",
        "print(G4.adjacency_matrix())\n",
        "print('lista adyacencia : ',G4.adjacency_list())"
      ]
    },
    {
      "cell_type": "markdown",
      "metadata": {
        "id": "ux_9FZ-mEpMJ"
      },
      "source": [
        "# Tarea\n",
        "\n",
        "    1.) Utilizar clase 'simple_graph' para crear un grafo completo simple con 10 nodos (Usar producto cartesiano para crear lista de aristas)\n",
        "\n",
        "    2.) Utilizar clase 'digraph' para crear un grafo dirigido simple con 10 nodos.\n",
        "\n",
        "    3.) Implementar un grafo para encontrar comunidades de usuarios en la base de datos [Movielens 100K](https://files.grouplens.org/datasets/movielens/ml-latest-small.zip). \n",
        "    Cada usuario representa un nodo del grafo y se crea una arista para cada par de usuarios que han visto una misma pelicula. \n"
      ]
    },
    {
      "cell_type": "code",
      "execution_count": null,
      "metadata": {
        "id": "co8Xyz3DEpMJ"
      },
      "outputs": [],
      "source": []
    }
  ],
  "metadata": {
    "kernelspec": {
      "display_name": "Python 3",
      "language": "python",
      "name": "python3"
    },
    "language_info": {
      "codemirror_mode": {
        "name": "ipython",
        "version": 3
      },
      "file_extension": ".py",
      "mimetype": "text/x-python",
      "name": "python",
      "nbconvert_exporter": "python",
      "pygments_lexer": "ipython3",
      "version": "3.6.9"
    },
    "colab": {
      "name": "3.-teoria_grafos.ipynb",
      "provenance": []
    }
  },
  "nbformat": 4,
  "nbformat_minor": 0
}